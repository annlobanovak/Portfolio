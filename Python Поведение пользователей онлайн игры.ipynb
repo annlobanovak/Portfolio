{
 "cells": [
  {
   "attachments": {},
   "cell_type": "markdown",
   "id": "bde05b87",
   "metadata": {},
   "source": [
    "### Анализ поведения пользователей онлайн игры\n",
    "\n",
    "КЕЙС:\n",
    "\n",
    "В приложении игры Quiz Freeze запущенно обновление. У разработчиков возникли гипотезы о поведении игроков, которые необходимо проверить. Использовать для анализа  нужно только данные пользователей, которые зарегистрировались в 2018 году.\n",
    "\n",
    "ГИПОТЕЗЫ:\n",
    "\n",
    "Гипотеза 1\n",
    "По идее, должна быть разница в поведении групп, которые проходят и не проходят обучение. Но так ли это? Влияет ли обучение на скорость прохождения других этапов игры?\n",
    "\n",
    "Гипотеза 2\n",
    "Кажется, повторное прохождение обучения положительно влияет на оплату, верно?\n",
    "\n",
    "Гипотеза 3\n",
    "Если пользователь сначала выбирает уровень сложности, будет ли он потом проходить обучение?\n",
    "\n",
    "ЗАДАЧИ:\n",
    "1. Определить, насколько обучение сокращает время прохождения этапов игры.\n",
    "2. Доказать, что успешное обучение само по себе влияет на оплату и не имеет значения то, каким этапом оно шло.\n",
    "3. Определить, насколько прозрачен процесс взаимодействия с игрой.\n",
    "\n",
    "ФОРМАЛИЗОВАННЫЕ ЗАДАЧИ:\n",
    "1. Сравнить время прохождения различных этапов для пользователей, которые завершили обучение, и пользователей, не начинавших обучение. Если показатель отличается, выяснить, насколько.\n",
    "2. Проверить, существует ли зависимость между вероятностью оплаты вопросов и количеством обучений, которые начинал или завершал пользователь. \n",
    "3. Выяснить, как часто пользователи начинают обучение после выбора уровня сложности. (Это позволит оценить прозрачность процесса взаимодействия с игрой: если пользователи после выбора уровня сложности обращаются к обучению, значит, работа с приложением непонятна).\n",
    "\n",
    "ЭТАПЫ ПРОХОЖДЕНИЯ ИГРЫ:\n",
    "![](https://docs.google.com/drawings/d/e/2PACX-1vRtyzDIKtMjKP52C1ujIe-swMQNlgVhQ2kq6tws2IBZ2PkgILFxWoIvBf3854SXgDyeiSy6G7jE9O5G/pub?w=1444&h=150)"
   ]
  },
  {
   "attachments": {},
   "cell_type": "markdown",
   "id": "57ef4812",
   "metadata": {},
   "source": [
    "### <a name='link1'></a> Исходные данные\n",
    "1. Таблица Event.\n",
    "Хранит данные о событиях, которые совершают пользователи. По сути, каждое событие — это факт прохождения пользователем какого-либо этапа игры.\n",
    "\n",
    "- Название поля: Описание\n",
    "- id: идентификатор события\n",
    "- user_id: уникальный идентификатор пользователя, совершившего событие в приложении\n",
    "- start_time: дата и время события\n",
    "- event_type: тип события (значения: registration — регистрация; tutorial_start — начало обучения; tutorial_finish — завершение обучения; level_choice — выбор уровня сложности; pack_choice — выбор пакетов вопросов)\n",
    " - tutorial_id: идентификатор обучения (этот идентификатор есть только у событий обучения) \n",
    " - selected_level: выбранный уровень сложности обучения\n",
    "\n",
    "2. Таблица purchase.\n",
    "Хранит данные об оплатах, которые совершают пользователи.\n",
    "\n",
    "- Название поля: Описание\n",
    "- id: идентификатор события\n",
    "- user_id: уникальный идентификатор пользователя, совершившего событие в приложении\n",
    "- event_datetime: дата и время события/покупки\n",
    "- amount: сумма оплаты"
   ]
  },
  {
   "attachments": {},
   "cell_type": "markdown",
   "id": "1985df7a",
   "metadata": {},
   "source": [
    "### <a name='link2'></a> Исследование и подготовка данных"
   ]
  },
  {
   "attachments": {},
   "cell_type": "markdown",
   "id": "2d251e75",
   "metadata": {},
   "source": [
    "Импортируем все необходимые библиотеки и модули"
   ]
  },
  {
   "cell_type": "code",
   "execution_count": 234,
   "id": "2c82baeb",
   "metadata": {},
   "outputs": [],
   "source": [
    "import pandas as pd\n",
    "import numpy as np\n",
    "import matplotlib.pyplot as plt\n",
    "%matplotlib inline"
   ]
  },
  {
   "attachments": {},
   "cell_type": "markdown",
   "id": "34c10e41",
   "metadata": {},
   "source": [
    "Прочитаем исходные файлы 7_4_Events.csv, purchase.csv, сохраним их в переменных event_df и purchase_df."
   ]
  },
  {
   "cell_type": "code",
   "execution_count": 235,
   "id": "bf6592ae",
   "metadata": {},
   "outputs": [],
   "source": [
    "# events_df = pd.read_csv('data/7_4_Events.csv')\n",
    "# purchase_df = pd.read_csv('data/purchase.csv')\n",
    "events_df = pd.read_csv('7_4_Events.csv')\n",
    "purchase_df = pd.read_csv('purchase.csv')"
   ]
  },
  {
   "cell_type": "markdown",
   "id": "ef4f5a2d",
   "metadata": {},
   "source": [
    "Создадим маску correct_time для фильтрации пользователей зарегистрировавшихся в 2018 г.\n",
    "На основе correct_time создадим список user_id зарегистрировавшихся в 2018 г. (users_2018).\n",
    "Обновим events_df, оставляя в нём только необходимые события (фильтрация с помощью users_2018)\n",
    "Обновим purchase_df, оставляя в нём только необходимые события (фильтрация с помощью users_2018)"
   ]
  },
  {
   "cell_type": "code",
   "execution_count": 236,
   "id": "21f4dca6",
   "metadata": {},
   "outputs": [],
   "source": [
    "correct_time = (events_df['start_time'] >= '2018-01-01') & (events_df['start_time'] <'2019-01-01') & (events_df['event_type'] == 'registration')\n",
    "users_2018 = events_df[correct_time]['user_id'].to_list()\n",
    "events_df  = events_df[events_df['user_id'].isin(users_2018)]\n",
    "purchase_df = purchase_df[purchase_df['user_id'].isin(users_2018)]\n"
   ]
  },
  {
   "cell_type": "markdown",
   "id": "6d1a7404",
   "metadata": {},
   "source": [
    "Переведем столбцы 'start_time' и 'event_datetime' в формат datetime."
   ]
  },
  {
   "cell_type": "code",
   "execution_count": 237,
   "id": "d7ff2f52",
   "metadata": {},
   "outputs": [],
   "source": [
    "events_df['start_time'] = pd.to_datetime (events_df['start_time'])\n",
    "purchase_df['event_datetime'] = pd.to_datetime (purchase_df['event_datetime'])\n"
   ]
  },
  {
   "cell_type": "markdown",
   "id": "6c4cacf9",
   "metadata": {},
   "source": [
    "Изучим данные в  полученных датасетах:\n"
   ]
  },
  {
   "cell_type": "code",
   "execution_count": 238,
   "id": "9c1cb608",
   "metadata": {},
   "outputs": [
    {
     "name": "stdout",
     "output_type": "stream",
     "text": [
      "<class 'pandas.core.frame.DataFrame'>\n",
      "Int64Index: 66959 entries, 51405 to 118364\n",
      "Data columns (total 6 columns):\n",
      " #   Column          Non-Null Count  Dtype         \n",
      "---  ------          --------------  -----         \n",
      " 0   id              66959 non-null  int64         \n",
      " 1   event_type      66959 non-null  object        \n",
      " 2   selected_level  8342 non-null   object        \n",
      " 3   start_time      66959 non-null  datetime64[ns]\n",
      " 4   tutorial_id     32954 non-null  float64       \n",
      " 5   user_id         66959 non-null  int64         \n",
      "dtypes: datetime64[ns](1), float64(1), int64(2), object(2)\n",
      "memory usage: 3.6+ MB\n",
      "<class 'pandas.core.frame.DataFrame'>\n",
      "Int64Index: 1600 entries, 1171 to 2778\n",
      "Data columns (total 4 columns):\n",
      " #   Column          Non-Null Count  Dtype         \n",
      "---  ------          --------------  -----         \n",
      " 0   id              1600 non-null   int64         \n",
      " 1   user_id         1600 non-null   int64         \n",
      " 2   event_datetime  1600 non-null   datetime64[ns]\n",
      " 3   amount          1600 non-null   int64         \n",
      "dtypes: datetime64[ns](1), int64(3)\n",
      "memory usage: 62.5 KB\n"
     ]
    }
   ],
   "source": [
    "events_df.info()\n",
    "purchase_df.info()"
   ]
  },
  {
   "cell_type": "markdown",
   "id": "fe9b06e7",
   "metadata": {},
   "source": [
    "Удалим потенциальные повторы"
   ]
  },
  {
   "cell_type": "code",
   "execution_count": 239,
   "id": "86eedfda",
   "metadata": {},
   "outputs": [
    {
     "data": {
      "text/html": [
       "<div>\n",
       "<style scoped>\n",
       "    .dataframe tbody tr th:only-of-type {\n",
       "        vertical-align: middle;\n",
       "    }\n",
       "\n",
       "    .dataframe tbody tr th {\n",
       "        vertical-align: top;\n",
       "    }\n",
       "\n",
       "    .dataframe thead th {\n",
       "        text-align: right;\n",
       "    }\n",
       "</style>\n",
       "<table border=\"1\" class=\"dataframe\">\n",
       "  <thead>\n",
       "    <tr style=\"text-align: right;\">\n",
       "      <th></th>\n",
       "      <th>id</th>\n",
       "      <th>event_type</th>\n",
       "      <th>selected_level</th>\n",
       "      <th>start_time</th>\n",
       "      <th>tutorial_id</th>\n",
       "      <th>user_id</th>\n",
       "    </tr>\n",
       "  </thead>\n",
       "  <tbody>\n",
       "    <tr>\n",
       "      <th>51405</th>\n",
       "      <td>80308</td>\n",
       "      <td>registration</td>\n",
       "      <td>NaN</td>\n",
       "      <td>2018-01-01 03:48:40</td>\n",
       "      <td>NaN</td>\n",
       "      <td>27832</td>\n",
       "    </tr>\n",
       "    <tr>\n",
       "      <th>51406</th>\n",
       "      <td>80309</td>\n",
       "      <td>registration</td>\n",
       "      <td>NaN</td>\n",
       "      <td>2018-01-01 04:07:25</td>\n",
       "      <td>NaN</td>\n",
       "      <td>27833</td>\n",
       "    </tr>\n",
       "    <tr>\n",
       "      <th>51407</th>\n",
       "      <td>80310</td>\n",
       "      <td>registration</td>\n",
       "      <td>NaN</td>\n",
       "      <td>2018-01-01 08:35:10</td>\n",
       "      <td>NaN</td>\n",
       "      <td>27834</td>\n",
       "    </tr>\n",
       "    <tr>\n",
       "      <th>51408</th>\n",
       "      <td>80311</td>\n",
       "      <td>registration</td>\n",
       "      <td>NaN</td>\n",
       "      <td>2018-01-01 11:54:47</td>\n",
       "      <td>NaN</td>\n",
       "      <td>27835</td>\n",
       "    </tr>\n",
       "    <tr>\n",
       "      <th>51409</th>\n",
       "      <td>80312</td>\n",
       "      <td>registration</td>\n",
       "      <td>NaN</td>\n",
       "      <td>2018-01-01 13:28:07</td>\n",
       "      <td>NaN</td>\n",
       "      <td>27836</td>\n",
       "    </tr>\n",
       "    <tr>\n",
       "      <th>...</th>\n",
       "      <td>...</td>\n",
       "      <td>...</td>\n",
       "      <td>...</td>\n",
       "      <td>...</td>\n",
       "      <td>...</td>\n",
       "      <td>...</td>\n",
       "    </tr>\n",
       "    <tr>\n",
       "      <th>118359</th>\n",
       "      <td>147262</td>\n",
       "      <td>tutorial_start</td>\n",
       "      <td>NaN</td>\n",
       "      <td>2019-01-01 03:26:18</td>\n",
       "      <td>49554.0</td>\n",
       "      <td>47756</td>\n",
       "    </tr>\n",
       "    <tr>\n",
       "      <th>118360</th>\n",
       "      <td>147263</td>\n",
       "      <td>tutorial_finish</td>\n",
       "      <td>NaN</td>\n",
       "      <td>2019-01-01 03:29:25</td>\n",
       "      <td>49554.0</td>\n",
       "      <td>47756</td>\n",
       "    </tr>\n",
       "    <tr>\n",
       "      <th>118362</th>\n",
       "      <td>147265</td>\n",
       "      <td>level_choice</td>\n",
       "      <td>easy</td>\n",
       "      <td>2019-01-01 05:04:52</td>\n",
       "      <td>NaN</td>\n",
       "      <td>47755</td>\n",
       "    </tr>\n",
       "    <tr>\n",
       "      <th>118363</th>\n",
       "      <td>147266</td>\n",
       "      <td>level_choice</td>\n",
       "      <td>medium</td>\n",
       "      <td>2019-01-01 05:42:11</td>\n",
       "      <td>NaN</td>\n",
       "      <td>47756</td>\n",
       "    </tr>\n",
       "    <tr>\n",
       "      <th>118364</th>\n",
       "      <td>147267</td>\n",
       "      <td>pack_choice</td>\n",
       "      <td>NaN</td>\n",
       "      <td>2019-01-01 05:50:36</td>\n",
       "      <td>NaN</td>\n",
       "      <td>47756</td>\n",
       "    </tr>\n",
       "  </tbody>\n",
       "</table>\n",
       "<p>66959 rows × 6 columns</p>\n",
       "</div>"
      ],
      "text/plain": [
       "            id       event_type selected_level          start_time  \\\n",
       "51405    80308     registration            NaN 2018-01-01 03:48:40   \n",
       "51406    80309     registration            NaN 2018-01-01 04:07:25   \n",
       "51407    80310     registration            NaN 2018-01-01 08:35:10   \n",
       "51408    80311     registration            NaN 2018-01-01 11:54:47   \n",
       "51409    80312     registration            NaN 2018-01-01 13:28:07   \n",
       "...        ...              ...            ...                 ...   \n",
       "118359  147262   tutorial_start            NaN 2019-01-01 03:26:18   \n",
       "118360  147263  tutorial_finish            NaN 2019-01-01 03:29:25   \n",
       "118362  147265     level_choice           easy 2019-01-01 05:04:52   \n",
       "118363  147266     level_choice         medium 2019-01-01 05:42:11   \n",
       "118364  147267      pack_choice            NaN 2019-01-01 05:50:36   \n",
       "\n",
       "        tutorial_id  user_id  \n",
       "51405           NaN    27832  \n",
       "51406           NaN    27833  \n",
       "51407           NaN    27834  \n",
       "51408           NaN    27835  \n",
       "51409           NaN    27836  \n",
       "...             ...      ...  \n",
       "118359      49554.0    47756  \n",
       "118360      49554.0    47756  \n",
       "118362          NaN    47755  \n",
       "118363          NaN    47756  \n",
       "118364          NaN    47756  \n",
       "\n",
       "[66959 rows x 6 columns]"
      ]
     },
     "execution_count": 239,
     "metadata": {},
     "output_type": "execute_result"
    }
   ],
   "source": [
    "purchase_df.drop_duplicates()\n",
    "events_df.drop_duplicates()"
   ]
  },
  {
   "cell_type": "markdown",
   "id": "ea7555b7",
   "metadata": {},
   "source": [
    "Изучим данных в столбцах:\n",
    "    количество уникальных пользователей,\n",
    "    уникальные значения столбца selected_level,\n",
    "    уникальные значения столбца event_type.\n",
    "    "
   ]
  },
  {
   "cell_type": "code",
   "execution_count": 240,
   "id": "0b104f38",
   "metadata": {},
   "outputs": [
    {
     "name": "stdout",
     "output_type": "stream",
     "text": [
      "19926\n",
      "[nan 'medium' 'hard' 'easy']\n",
      "['registration' 'tutorial_start' 'tutorial_finish' 'level_choice'\n",
      " 'pack_choice']\n"
     ]
    }
   ],
   "source": [
    "\n",
    "print(events_df['user_id'].nunique())\n",
    "print(events_df['selected_level'].unique())\n",
    "print(events_df['event_type'].unique())"
   ]
  },
  {
   "attachments": {},
   "cell_type": "markdown",
   "id": "32c9dde8",
   "metadata": {},
   "source": [
    "Шапки полученных таблиц"
   ]
  },
  {
   "cell_type": "code",
   "execution_count": 241,
   "id": "68ea85c0",
   "metadata": {},
   "outputs": [
    {
     "data": {
      "text/html": [
       "<div>\n",
       "<style scoped>\n",
       "    .dataframe tbody tr th:only-of-type {\n",
       "        vertical-align: middle;\n",
       "    }\n",
       "\n",
       "    .dataframe tbody tr th {\n",
       "        vertical-align: top;\n",
       "    }\n",
       "\n",
       "    .dataframe thead th {\n",
       "        text-align: right;\n",
       "    }\n",
       "</style>\n",
       "<table border=\"1\" class=\"dataframe\">\n",
       "  <thead>\n",
       "    <tr style=\"text-align: right;\">\n",
       "      <th></th>\n",
       "      <th>id</th>\n",
       "      <th>event_type</th>\n",
       "      <th>selected_level</th>\n",
       "      <th>start_time</th>\n",
       "      <th>tutorial_id</th>\n",
       "      <th>user_id</th>\n",
       "    </tr>\n",
       "  </thead>\n",
       "  <tbody>\n",
       "    <tr>\n",
       "      <th>51405</th>\n",
       "      <td>80308</td>\n",
       "      <td>registration</td>\n",
       "      <td>NaN</td>\n",
       "      <td>2018-01-01 03:48:40</td>\n",
       "      <td>NaN</td>\n",
       "      <td>27832</td>\n",
       "    </tr>\n",
       "    <tr>\n",
       "      <th>51406</th>\n",
       "      <td>80309</td>\n",
       "      <td>registration</td>\n",
       "      <td>NaN</td>\n",
       "      <td>2018-01-01 04:07:25</td>\n",
       "      <td>NaN</td>\n",
       "      <td>27833</td>\n",
       "    </tr>\n",
       "    <tr>\n",
       "      <th>51407</th>\n",
       "      <td>80310</td>\n",
       "      <td>registration</td>\n",
       "      <td>NaN</td>\n",
       "      <td>2018-01-01 08:35:10</td>\n",
       "      <td>NaN</td>\n",
       "      <td>27834</td>\n",
       "    </tr>\n",
       "    <tr>\n",
       "      <th>51408</th>\n",
       "      <td>80311</td>\n",
       "      <td>registration</td>\n",
       "      <td>NaN</td>\n",
       "      <td>2018-01-01 11:54:47</td>\n",
       "      <td>NaN</td>\n",
       "      <td>27835</td>\n",
       "    </tr>\n",
       "    <tr>\n",
       "      <th>51409</th>\n",
       "      <td>80312</td>\n",
       "      <td>registration</td>\n",
       "      <td>NaN</td>\n",
       "      <td>2018-01-01 13:28:07</td>\n",
       "      <td>NaN</td>\n",
       "      <td>27836</td>\n",
       "    </tr>\n",
       "  </tbody>\n",
       "</table>\n",
       "</div>"
      ],
      "text/plain": [
       "          id    event_type selected_level          start_time  tutorial_id  \\\n",
       "51405  80308  registration            NaN 2018-01-01 03:48:40          NaN   \n",
       "51406  80309  registration            NaN 2018-01-01 04:07:25          NaN   \n",
       "51407  80310  registration            NaN 2018-01-01 08:35:10          NaN   \n",
       "51408  80311  registration            NaN 2018-01-01 11:54:47          NaN   \n",
       "51409  80312  registration            NaN 2018-01-01 13:28:07          NaN   \n",
       "\n",
       "       user_id  \n",
       "51405    27832  \n",
       "51406    27833  \n",
       "51407    27834  \n",
       "51408    27835  \n",
       "51409    27836  "
      ]
     },
     "execution_count": 241,
     "metadata": {},
     "output_type": "execute_result"
    }
   ],
   "source": [
    "events_df.head()"
   ]
  },
  {
   "cell_type": "code",
   "execution_count": 242,
   "id": "c41ab7a1",
   "metadata": {},
   "outputs": [
    {
     "data": {
      "text/html": [
       "<div>\n",
       "<style scoped>\n",
       "    .dataframe tbody tr th:only-of-type {\n",
       "        vertical-align: middle;\n",
       "    }\n",
       "\n",
       "    .dataframe tbody tr th {\n",
       "        vertical-align: top;\n",
       "    }\n",
       "\n",
       "    .dataframe thead th {\n",
       "        text-align: right;\n",
       "    }\n",
       "</style>\n",
       "<table border=\"1\" class=\"dataframe\">\n",
       "  <thead>\n",
       "    <tr style=\"text-align: right;\">\n",
       "      <th></th>\n",
       "      <th>id</th>\n",
       "      <th>user_id</th>\n",
       "      <th>event_datetime</th>\n",
       "      <th>amount</th>\n",
       "    </tr>\n",
       "  </thead>\n",
       "  <tbody>\n",
       "    <tr>\n",
       "      <th>1171</th>\n",
       "      <td>16845</td>\n",
       "      <td>27845</td>\n",
       "      <td>2018-01-03 18:53:43</td>\n",
       "      <td>100</td>\n",
       "    </tr>\n",
       "    <tr>\n",
       "      <th>1172</th>\n",
       "      <td>16846</td>\n",
       "      <td>27865</td>\n",
       "      <td>2018-01-04 14:46:10</td>\n",
       "      <td>250</td>\n",
       "    </tr>\n",
       "    <tr>\n",
       "      <th>1174</th>\n",
       "      <td>16848</td>\n",
       "      <td>27911</td>\n",
       "      <td>2018-01-07 08:19:12</td>\n",
       "      <td>50</td>\n",
       "    </tr>\n",
       "    <tr>\n",
       "      <th>1175</th>\n",
       "      <td>16849</td>\n",
       "      <td>27910</td>\n",
       "      <td>2018-01-07 12:11:34</td>\n",
       "      <td>100</td>\n",
       "    </tr>\n",
       "    <tr>\n",
       "      <th>1176</th>\n",
       "      <td>16850</td>\n",
       "      <td>27940</td>\n",
       "      <td>2018-01-07 13:16:41</td>\n",
       "      <td>200</td>\n",
       "    </tr>\n",
       "  </tbody>\n",
       "</table>\n",
       "</div>"
      ],
      "text/plain": [
       "         id  user_id      event_datetime  amount\n",
       "1171  16845    27845 2018-01-03 18:53:43     100\n",
       "1172  16846    27865 2018-01-04 14:46:10     250\n",
       "1174  16848    27911 2018-01-07 08:19:12      50\n",
       "1175  16849    27910 2018-01-07 12:11:34     100\n",
       "1176  16850    27940 2018-01-07 13:16:41     200"
      ]
     },
     "execution_count": 242,
     "metadata": {},
     "output_type": "execute_result"
    }
   ],
   "source": [
    "purchase_df.head()"
   ]
  },
  {
   "cell_type": "markdown",
   "id": "2b365b4a",
   "metadata": {},
   "source": [
    "Подготовим events_df и purchase_df к корректному объединению: переименуем столбцы, создадим новые."
   ]
  },
  {
   "cell_type": "code",
   "execution_count": 243,
   "id": "aea25c8c",
   "metadata": {},
   "outputs": [],
   "source": [
    "purchase_df['event_type'] = 'purchase'\n",
    "events_df = events_df.rename(columns={\"id\": \"event_id\"})\n",
    "purchase_df = purchase_df.rename(columns={\"id\": \"purchase_id\", \"event_datetime\": \"start_time\"})"
   ]
  },
  {
   "cell_type": "markdown",
   "id": "220a4b15",
   "metadata": {},
   "source": [
    "Объеденим по методу concat, сбросим индексы и отсортируем по возростанию 'start_time'"
   ]
  },
  {
   "cell_type": "code",
   "execution_count": 244,
   "id": "0bf22abd",
   "metadata": {},
   "outputs": [],
   "source": [
    "total_events_df = pd.concat([events_df,purchase_df],sort=False)\n",
    "total_events_df = total_events_df.reset_index(drop=True).sort_values('start_time')"
   ]
  },
  {
   "attachments": {},
   "cell_type": "markdown",
   "id": "82cd8e3d",
   "metadata": {},
   "source": [
    "Сохраним total_events_df для работы гипотезами."
   ]
  },
  {
   "cell_type": "code",
   "execution_count": 245,
   "id": "c1f286d8",
   "metadata": {},
   "outputs": [
    {
     "data": {
      "text/html": [
       "<div>\n",
       "<style scoped>\n",
       "    .dataframe tbody tr th:only-of-type {\n",
       "        vertical-align: middle;\n",
       "    }\n",
       "\n",
       "    .dataframe tbody tr th {\n",
       "        vertical-align: top;\n",
       "    }\n",
       "\n",
       "    .dataframe thead th {\n",
       "        text-align: right;\n",
       "    }\n",
       "</style>\n",
       "<table border=\"1\" class=\"dataframe\">\n",
       "  <thead>\n",
       "    <tr style=\"text-align: right;\">\n",
       "      <th></th>\n",
       "      <th>event_id</th>\n",
       "      <th>event_type</th>\n",
       "      <th>selected_level</th>\n",
       "      <th>start_time</th>\n",
       "      <th>tutorial_id</th>\n",
       "      <th>user_id</th>\n",
       "      <th>purchase_id</th>\n",
       "      <th>amount</th>\n",
       "    </tr>\n",
       "  </thead>\n",
       "  <tbody>\n",
       "    <tr>\n",
       "      <th>0</th>\n",
       "      <td>80308.0</td>\n",
       "      <td>registration</td>\n",
       "      <td>NaN</td>\n",
       "      <td>2018-01-01 03:48:40</td>\n",
       "      <td>NaN</td>\n",
       "      <td>27832</td>\n",
       "      <td>NaN</td>\n",
       "      <td>NaN</td>\n",
       "    </tr>\n",
       "    <tr>\n",
       "      <th>1</th>\n",
       "      <td>80309.0</td>\n",
       "      <td>registration</td>\n",
       "      <td>NaN</td>\n",
       "      <td>2018-01-01 04:07:25</td>\n",
       "      <td>NaN</td>\n",
       "      <td>27833</td>\n",
       "      <td>NaN</td>\n",
       "      <td>NaN</td>\n",
       "    </tr>\n",
       "    <tr>\n",
       "      <th>2</th>\n",
       "      <td>80310.0</td>\n",
       "      <td>registration</td>\n",
       "      <td>NaN</td>\n",
       "      <td>2018-01-01 08:35:10</td>\n",
       "      <td>NaN</td>\n",
       "      <td>27834</td>\n",
       "      <td>NaN</td>\n",
       "      <td>NaN</td>\n",
       "    </tr>\n",
       "    <tr>\n",
       "      <th>3</th>\n",
       "      <td>80311.0</td>\n",
       "      <td>registration</td>\n",
       "      <td>NaN</td>\n",
       "      <td>2018-01-01 11:54:47</td>\n",
       "      <td>NaN</td>\n",
       "      <td>27835</td>\n",
       "      <td>NaN</td>\n",
       "      <td>NaN</td>\n",
       "    </tr>\n",
       "    <tr>\n",
       "      <th>4</th>\n",
       "      <td>80312.0</td>\n",
       "      <td>registration</td>\n",
       "      <td>NaN</td>\n",
       "      <td>2018-01-01 13:28:07</td>\n",
       "      <td>NaN</td>\n",
       "      <td>27836</td>\n",
       "      <td>NaN</td>\n",
       "      <td>NaN</td>\n",
       "    </tr>\n",
       "  </tbody>\n",
       "</table>\n",
       "</div>"
      ],
      "text/plain": [
       "   event_id    event_type selected_level          start_time  tutorial_id  \\\n",
       "0   80308.0  registration            NaN 2018-01-01 03:48:40          NaN   \n",
       "1   80309.0  registration            NaN 2018-01-01 04:07:25          NaN   \n",
       "2   80310.0  registration            NaN 2018-01-01 08:35:10          NaN   \n",
       "3   80311.0  registration            NaN 2018-01-01 11:54:47          NaN   \n",
       "4   80312.0  registration            NaN 2018-01-01 13:28:07          NaN   \n",
       "\n",
       "   user_id  purchase_id  amount  \n",
       "0    27832          NaN     NaN  \n",
       "1    27833          NaN     NaN  \n",
       "2    27834          NaN     NaN  \n",
       "3    27835          NaN     NaN  \n",
       "4    27836          NaN     NaN  "
      ]
     },
     "execution_count": 245,
     "metadata": {},
     "output_type": "execute_result"
    }
   ],
   "source": [
    "total_events_df.head()"
   ]
  },
  {
   "attachments": {},
   "cell_type": "markdown",
   "id": "da3cca92",
   "metadata": {},
   "source": [
    "### <a name='link3'></a> Проверка 1-ой гипотезы. Зависимость обучения и скорости прохождения этапов игры"
   ]
  },
  {
   "cell_type": "markdown",
   "id": "669afe3f",
   "metadata": {},
   "source": [
    "Создадим списки пользователей которые:\n",
    "завершили обучение; начинали обучение; начинали играть; начинали играть пропустив обучение (путем вычитания множеств)"
   ]
  },
  {
   "cell_type": "code",
   "execution_count": 246,
   "id": "a06d1921",
   "metadata": {},
   "outputs": [],
   "source": [
    "finished_tut = events_df[events_df['event_type'] == 'tutorial_finish']['user_id'].tolist()\n",
    "users_started_tut = events_df[events_df['event_type'] == 'tutorial_start']['user_id'].tolist()\n",
    "users_started_play = events_df[events_df['event_type'] == 'level_choice']['user_id'].tolist()\n",
    "never_started_tut = list(set(users_started_play).difference(set(users_started_tut)))"
   ]
  },
  {
   "cell_type": "markdown",
   "id": "cb85aae0",
   "metadata": {},
   "source": [
    "Скопируем new_total_events для работы с 1-ой гипотезой"
   ]
  },
  {
   "cell_type": "code",
   "execution_count": 247,
   "id": "e6c80c50",
   "metadata": {},
   "outputs": [],
   "source": [
    "new_total_events=total_events_df"
   ]
  },
  {
   "attachments": {},
   "cell_type": "markdown",
   "id": "efbff11c",
   "metadata": {},
   "source": [
    "Построим сводную таблицу, в которой столбцами будут этапы прохождения игры, индексами - user_id, значениями - 'start_time'"
   ]
  },
  {
   "cell_type": "code",
   "execution_count": 248,
   "id": "ce254553",
   "metadata": {},
   "outputs": [],
   "source": [
    "new_total_events = new_total_events.pivot_table (\n",
    "    values='start_time',\n",
    "    index='user_id',\n",
    "    columns='event_type'\n",
    "     , aggfunc='min' \n",
    ")\n",
    "new_total_events = new_total_events.reset_index()"
   ]
  },
  {
   "cell_type": "markdown",
   "id": "0044ed91",
   "metadata": {},
   "source": [
    "Создадим функцию type_of_user для определения категории пользователя (обучался, не обучался, остальные)"
   ]
  },
  {
   "cell_type": "code",
   "execution_count": 249,
   "id": "ac917a01",
   "metadata": {},
   "outputs": [],
   "source": [
    "def type_of_user (id):\n",
    "    if id in (finished_tut):\n",
    "        return 'finished_tut'\n",
    "    if id in (never_started_tut):\n",
    "        return 'never_started_tut'\n",
    "    else:\n",
    "        return 'other'"
   ]
  },
  {
   "cell_type": "markdown",
   "id": "29a4e42d",
   "metadata": {},
   "source": [
    "Применим фун-ию type_of_user для создания нового признака user_type. Отфильтруем df убрав все записи категории 'other', оставив тем самым только интересующие нас категории пользователей."
   ]
  },
  {
   "cell_type": "code",
   "execution_count": 250,
   "id": "4046a9e2",
   "metadata": {},
   "outputs": [],
   "source": [
    "new_total_events['user_type'] = new_total_events.user_id.apply(type_of_user)\n",
    "new_total_events = new_total_events[new_total_events['user_type']!='other']"
   ]
  },
  {
   "attachments": {},
   "cell_type": "markdown",
   "id": "302422f7",
   "metadata": {},
   "source": [
    "Создадим 3 новых столбца : level_pack_timedelta - время на прохождение этапа между выбором уровня сложности и выбором пакета вопросов; pack_purchase_timedelta - время на прохождение этапа между выбором пакета вопросов и покупкой ; regist_purchase_timedelta - время на прохождение этапа между регистрацией и покупкой."
   ]
  },
  {
   "cell_type": "code",
   "execution_count": 251,
   "id": "28d043f3",
   "metadata": {},
   "outputs": [],
   "source": [
    "new_total_events['level_pack_timedelta'] = new_total_events['pack_choice'] - new_total_events['level_choice']\n",
    "new_total_events['pack_purchase_timedelta'] = new_total_events['purchase'] - new_total_events['pack_choice']\n",
    "new_total_events['regist_purchase_timedelta'] = new_total_events['purchase'] - new_total_events['registration']"
   ]
  },
  {
   "attachments": {},
   "cell_type": "markdown",
   "id": "165695b4",
   "metadata": {},
   "source": [
    "Переведем значения timedelta в числовые. В минуты - для этапа level_pack_timedelta. В дни - для этапа pack_purchase_timedelta и regist_purchase_timedelta."
   ]
  },
  {
   "cell_type": "code",
   "execution_count": 252,
   "id": "b21b7209",
   "metadata": {},
   "outputs": [],
   "source": [
    "new_total_events['level_pack_timedelta'] = new_total_events['level_pack_timedelta']/pd.Timedelta('1 minute')\n",
    "new_total_events['pack_purchase_timedelta'] = new_total_events['pack_purchase_timedelta']/pd.Timedelta('1 day')\n",
    "new_total_events['regist_purchase_timedelta'] = new_total_events['regist_purchase_timedelta']/pd.Timedelta('1 day')\n"
   ]
  },
  {
   "cell_type": "markdown",
   "id": "62a48839",
   "metadata": {},
   "source": [
    "Оставим только интересующие нас столбцы"
   ]
  },
  {
   "cell_type": "code",
   "execution_count": 253,
   "id": "bc044d6f",
   "metadata": {},
   "outputs": [],
   "source": [
    "new_total_events = new_total_events[['user_id','user_type','level_pack_timedelta','pack_purchase_timedelta','regist_purchase_timedelta']]\n"
   ]
  },
  {
   "attachments": {},
   "cell_type": "markdown",
   "id": "1c4eaba2",
   "metadata": {},
   "source": [
    "Сгруппируем данные по типам пользователей и посчитаем среднее время прохождения каждого этапа."
   ]
  },
  {
   "cell_type": "code",
   "execution_count": 254,
   "id": "9faec407",
   "metadata": {},
   "outputs": [],
   "source": [
    "level_pack = new_total_events.groupby('user_type')['level_pack_timedelta'].mean()\n",
    "pack_purchase = new_total_events.groupby('user_type')['pack_purchase_timedelta'].mean()\n",
    "regist_purchase = new_total_events.groupby('user_type')['regist_purchase_timedelta'].mean()"
   ]
  },
  {
   "cell_type": "code",
   "execution_count": 255,
   "id": "57094e73",
   "metadata": {},
   "outputs": [
    {
     "data": {
      "text/plain": [
       "user_type\n",
       "finished_tut         5.302434\n",
       "never_started_tut    5.397072\n",
       "Name: level_pack_timedelta, dtype: float64"
      ]
     },
     "execution_count": 255,
     "metadata": {},
     "output_type": "execute_result"
    }
   ],
   "source": [
    "level_pack"
   ]
  },
  {
   "cell_type": "code",
   "execution_count": 256,
   "id": "33bad247",
   "metadata": {},
   "outputs": [
    {
     "data": {
      "text/plain": [
       "user_type\n",
       "finished_tut         3.720829\n",
       "never_started_tut    4.201083\n",
       "Name: pack_purchase_timedelta, dtype: float64"
      ]
     },
     "execution_count": 256,
     "metadata": {},
     "output_type": "execute_result"
    }
   ],
   "source": [
    "pack_purchase"
   ]
  },
  {
   "cell_type": "code",
   "execution_count": 257,
   "id": "5e79f73e",
   "metadata": {},
   "outputs": [
    {
     "data": {
      "text/plain": [
       "user_type\n",
       "finished_tut         4.020871\n",
       "never_started_tut    4.379189\n",
       "Name: regist_purchase_timedelta, dtype: float64"
      ]
     },
     "execution_count": 257,
     "metadata": {},
     "output_type": "execute_result"
    }
   ],
   "source": [
    "regist_purchase"
   ]
  },
  {
   "attachments": {},
   "cell_type": "markdown",
   "id": "d836540b",
   "metadata": {},
   "source": [
    "Для визуализации результатов используем метод Subplots(). Для каждого этапа игры создадим отдельную столбчатую диаграмму."
   ]
  },
  {
   "cell_type": "code",
   "execution_count": 258,
   "id": "a56cd150",
   "metadata": {},
   "outputs": [
    {
     "data": {
      "text/plain": [
       "Text(0.5, 0, 'Группы пользователей')"
      ]
     },
     "execution_count": 258,
     "metadata": {},
     "output_type": "execute_result"
    },
    {
     "data": {
      "image/png": "[encoded data removed]",
      "text/plain": [
       "<Figure size 1500x600 with 3 Axes>"
      ]
     },
     "metadata": {},
     "output_type": "display_data"
    }
   ],
   "source": [
    "fig, axes = plt.subplots(nrows=1, ncols=3, figsize=(15, 6))\n",
    "fig.suptitle(\"Сравнение скорости прохождения этапов игры для прошедших и пропустивших обучение\", fontsize=17)\n",
    "axes[0].bar(x=level_pack.index, \n",
    "    height=level_pack,\n",
    "    color='lightgreen',\n",
    ")\n",
    "axes[0].set_title('Выбор сложности- Выбор пакета вопросов')\n",
    "axes[0].set_ylabel('В минутах')\n",
    "axes[0].set_xlabel('Группы пользователей')\n",
    "\n",
    "axes[1].bar(x=pack_purchase.index, \n",
    "    height=pack_purchase,\n",
    "    color='orange',\n",
    ")\n",
    "axes[1].set_title('Выбор пакета вопросов - Покупка')\n",
    "axes[1].set_ylabel('В днях')\n",
    "axes[1].set_xlabel('Группы пользователей')\n",
    "\n",
    "axes[2].bar(x=regist_purchase.index, \n",
    "    height=regist_purchase,\n",
    ")\n",
    "axes[2].set_title('Регистрация - Покупка')\n",
    "axes[2].set_ylabel('В днях')\n",
    "axes[2].set_xlabel('Группы пользователей')"
   ]
  },
  {
   "attachments": {},
   "cell_type": "markdown",
   "id": "8ac9aed9",
   "metadata": {},
   "source": [
    "-для проверки гипотезы выявлены 2 группы пользователей: **Finished_tut** - завершившие обучение; **Never_started_tut** - не начинавшие обучение.\n",
    "\n",
    "-для этих групп сравнивалась скорость прохождения 3-ёх этапов:\n",
    "\n",
    " 1 - время от выбора уровня сложности до выбора пакета вопросов;\n",
    " \n",
    " 2 - время от выбора пакета вопросов до покупки;\n",
    "\n",
    " 3 - время от регистрации до покупки"
   ]
  },
  {
   "attachments": {},
   "cell_type": "markdown",
   "id": "74217b42",
   "metadata": {},
   "source": [
    "### <a name='link4'></a> Выводы по 1-ой гипотезе\n",
    "\n",
    "-разница для сравниваемых групп в прохождении первого этапа практически отсутствует (5.3 и 5.4 минуты);\n",
    "\n",
    "-разница в прохождении второго этапа присутствует (3.7 и 4.2 дня). **Пользователи завершившие обучение быстрее (на 14%) проходят этап от выбора пакета вопросов до покупки**;\n",
    "\n",
    "-разница в прохождении третьего этапа присутствует (4 и 4.4 дня). **Пользователи завершившие обучение быстрее (на 10%) проходят этап  от регистрации до покупки**\n",
    "\n"
   ]
  },
  {
   "attachments": {},
   "cell_type": "markdown",
   "id": "edff1285",
   "metadata": {},
   "source": [
    "### <a name='link5'></a> Проверка 2-ой гипотезы. Зависимость обучения и покупки платных вопросов"
   ]
  },
  {
   "cell_type": "markdown",
   "id": "86829b80",
   "metadata": {},
   "source": [
    "Находим уникальный путь каждого пользователя"
   ]
  },
  {
   "cell_type": "code",
   "execution_count": 259,
   "id": "f5b379f9",
   "metadata": {},
   "outputs": [
    {
     "data": {
      "text/html": [
       "<div>\n",
       "<style scoped>\n",
       "    .dataframe tbody tr th:only-of-type {\n",
       "        vertical-align: middle;\n",
       "    }\n",
       "\n",
       "    .dataframe tbody tr th {\n",
       "        vertical-align: top;\n",
       "    }\n",
       "\n",
       "    .dataframe thead th {\n",
       "        text-align: right;\n",
       "    }\n",
       "</style>\n",
       "<table border=\"1\" class=\"dataframe\">\n",
       "  <thead>\n",
       "    <tr style=\"text-align: right;\">\n",
       "      <th></th>\n",
       "      <th>user_id</th>\n",
       "      <th>event_type</th>\n",
       "    </tr>\n",
       "  </thead>\n",
       "  <tbody>\n",
       "    <tr>\n",
       "      <th>0</th>\n",
       "      <td>27832</td>\n",
       "      <td>[registration]</td>\n",
       "    </tr>\n",
       "    <tr>\n",
       "      <th>1</th>\n",
       "      <td>27833</td>\n",
       "      <td>[registration, tutorial_start, tutorial_finish]</td>\n",
       "    </tr>\n",
       "    <tr>\n",
       "      <th>2</th>\n",
       "      <td>27834</td>\n",
       "      <td>[registration, tutorial_start, tutorial_finish]</td>\n",
       "    </tr>\n",
       "    <tr>\n",
       "      <th>3</th>\n",
       "      <td>27835</td>\n",
       "      <td>[registration, tutorial_start, tutorial_finish...</td>\n",
       "    </tr>\n",
       "    <tr>\n",
       "      <th>4</th>\n",
       "      <td>27836</td>\n",
       "      <td>[registration, tutorial_start, tutorial_start,...</td>\n",
       "    </tr>\n",
       "  </tbody>\n",
       "</table>\n",
       "</div>"
      ],
      "text/plain": [
       "   user_id                                         event_type\n",
       "0    27832                                     [registration]\n",
       "1    27833    [registration, tutorial_start, tutorial_finish]\n",
       "2    27834    [registration, tutorial_start, tutorial_finish]\n",
       "3    27835  [registration, tutorial_start, tutorial_finish...\n",
       "4    27836  [registration, tutorial_start, tutorial_start,..."
      ]
     },
     "execution_count": 259,
     "metadata": {},
     "output_type": "execute_result"
    }
   ],
   "source": [
    "user_path_df = (\n",
    "    total_events_df.groupby([\"user_id\"])[\"event_type\"].apply(list).reset_index()\n",
    ")\n",
    "user_path_df.head()"
   ]
  },
  {
   "cell_type": "markdown",
   "id": "f6ec96b5",
   "metadata": {},
   "source": [
    "Преобразуем event_path для более удобного использования"
   ]
  },
  {
   "cell_type": "code",
   "execution_count": 260,
   "id": "04175bd8",
   "metadata": {},
   "outputs": [
    {
     "data": {
      "text/html": [
       "<div>\n",
       "<style scoped>\n",
       "    .dataframe tbody tr th:only-of-type {\n",
       "        vertical-align: middle;\n",
       "    }\n",
       "\n",
       "    .dataframe tbody tr th {\n",
       "        vertical-align: top;\n",
       "    }\n",
       "\n",
       "    .dataframe thead th {\n",
       "        text-align: right;\n",
       "    }\n",
       "</style>\n",
       "<table border=\"1\" class=\"dataframe\">\n",
       "  <thead>\n",
       "    <tr style=\"text-align: right;\">\n",
       "      <th></th>\n",
       "      <th>user_id</th>\n",
       "      <th>event_type</th>\n",
       "      <th>event_path</th>\n",
       "    </tr>\n",
       "  </thead>\n",
       "  <tbody>\n",
       "    <tr>\n",
       "      <th>0</th>\n",
       "      <td>27832</td>\n",
       "      <td>[registration]</td>\n",
       "      <td>registration</td>\n",
       "    </tr>\n",
       "    <tr>\n",
       "      <th>1</th>\n",
       "      <td>27833</td>\n",
       "      <td>[registration, tutorial_start, tutorial_finish]</td>\n",
       "      <td>registration &gt; tutorial_start &gt; tutorial_finish</td>\n",
       "    </tr>\n",
       "    <tr>\n",
       "      <th>2</th>\n",
       "      <td>27834</td>\n",
       "      <td>[registration, tutorial_start, tutorial_finish]</td>\n",
       "      <td>registration &gt; tutorial_start &gt; tutorial_finish</td>\n",
       "    </tr>\n",
       "    <tr>\n",
       "      <th>3</th>\n",
       "      <td>27835</td>\n",
       "      <td>[registration, tutorial_start, tutorial_finish...</td>\n",
       "      <td>registration &gt; tutorial_start &gt; tutorial_finis...</td>\n",
       "    </tr>\n",
       "    <tr>\n",
       "      <th>4</th>\n",
       "      <td>27836</td>\n",
       "      <td>[registration, tutorial_start, tutorial_start,...</td>\n",
       "      <td>registration &gt; tutorial_start &gt; tutorial_start...</td>\n",
       "    </tr>\n",
       "  </tbody>\n",
       "</table>\n",
       "</div>"
      ],
      "text/plain": [
       "   user_id                                         event_type  \\\n",
       "0    27832                                     [registration]   \n",
       "1    27833    [registration, tutorial_start, tutorial_finish]   \n",
       "2    27834    [registration, tutorial_start, tutorial_finish]   \n",
       "3    27835  [registration, tutorial_start, tutorial_finish...   \n",
       "4    27836  [registration, tutorial_start, tutorial_start,...   \n",
       "\n",
       "                                          event_path  \n",
       "0                                       registration  \n",
       "1    registration > tutorial_start > tutorial_finish  \n",
       "2    registration > tutorial_start > tutorial_finish  \n",
       "3  registration > tutorial_start > tutorial_finis...  \n",
       "4  registration > tutorial_start > tutorial_start...  "
      ]
     },
     "execution_count": 260,
     "metadata": {},
     "output_type": "execute_result"
    }
   ],
   "source": [
    "user_path_df[\"event_path\"] = user_path_df[\"event_type\"].apply(lambda x: \" > \".join(x))\n",
    "user_path_df.head()"
   ]
  },
  {
   "cell_type": "markdown",
   "id": "6678f450",
   "metadata": {},
   "source": [
    "Оставляем только пользователей с покупкой, удаляем лишний столбец 'event_type', сбрасываем индексы"
   ]
  },
  {
   "cell_type": "code",
   "execution_count": 261,
   "id": "ce70c464",
   "metadata": {},
   "outputs": [
    {
     "data": {
      "text/html": [
       "<div>\n",
       "<style scoped>\n",
       "    .dataframe tbody tr th:only-of-type {\n",
       "        vertical-align: middle;\n",
       "    }\n",
       "\n",
       "    .dataframe tbody tr th {\n",
       "        vertical-align: top;\n",
       "    }\n",
       "\n",
       "    .dataframe thead th {\n",
       "        text-align: right;\n",
       "    }\n",
       "</style>\n",
       "<table border=\"1\" class=\"dataframe\">\n",
       "  <thead>\n",
       "    <tr style=\"text-align: right;\">\n",
       "      <th></th>\n",
       "      <th>user_id</th>\n",
       "      <th>event_path</th>\n",
       "    </tr>\n",
       "  </thead>\n",
       "  <tbody>\n",
       "    <tr>\n",
       "      <th>0</th>\n",
       "      <td>27845</td>\n",
       "      <td>registration &gt; tutorial_start &gt; tutorial_finis...</td>\n",
       "    </tr>\n",
       "    <tr>\n",
       "      <th>1</th>\n",
       "      <td>27865</td>\n",
       "      <td>registration &gt; tutorial_start &gt; level_choice &gt;...</td>\n",
       "    </tr>\n",
       "    <tr>\n",
       "      <th>2</th>\n",
       "      <td>27884</td>\n",
       "      <td>registration &gt; tutorial_start &gt; tutorial_finis...</td>\n",
       "    </tr>\n",
       "    <tr>\n",
       "      <th>3</th>\n",
       "      <td>27910</td>\n",
       "      <td>registration &gt; tutorial_start &gt; tutorial_finis...</td>\n",
       "    </tr>\n",
       "    <tr>\n",
       "      <th>4</th>\n",
       "      <td>27911</td>\n",
       "      <td>registration &gt; tutorial_start &gt; level_choice &gt;...</td>\n",
       "    </tr>\n",
       "  </tbody>\n",
       "</table>\n",
       "</div>"
      ],
      "text/plain": [
       "   user_id                                         event_path\n",
       "0    27845  registration > tutorial_start > tutorial_finis...\n",
       "1    27865  registration > tutorial_start > level_choice >...\n",
       "2    27884  registration > tutorial_start > tutorial_finis...\n",
       "3    27910  registration > tutorial_start > tutorial_finis...\n",
       "4    27911  registration > tutorial_start > level_choice >..."
      ]
     },
     "execution_count": 261,
     "metadata": {},
     "output_type": "execute_result"
    }
   ],
   "source": [
    "user_path_df_with_purchase = user_path_df[user_path_df['event_path'].str.contains('purchase')]\n",
    "user_path_df_with_purchase = user_path_df_with_purchase[['user_id','event_path']].reset_index(drop=True)\n",
    "user_path_df_with_purchase.head()"
   ]
  },
  {
   "cell_type": "markdown",
   "id": "95cc13be",
   "metadata": {},
   "source": [
    "Создаем новые столбцы,в которых подсчитано кол-во 'tutorial_start' и 'tutorial_finish'"
   ]
  },
  {
   "cell_type": "code",
   "execution_count": 262,
   "id": "3b05f077",
   "metadata": {},
   "outputs": [
    {
     "data": {
      "text/html": [
       "<div>\n",
       "<style scoped>\n",
       "    .dataframe tbody tr th:only-of-type {\n",
       "        vertical-align: middle;\n",
       "    }\n",
       "\n",
       "    .dataframe tbody tr th {\n",
       "        vertical-align: top;\n",
       "    }\n",
       "\n",
       "    .dataframe thead th {\n",
       "        text-align: right;\n",
       "    }\n",
       "</style>\n",
       "<table border=\"1\" class=\"dataframe\">\n",
       "  <thead>\n",
       "    <tr style=\"text-align: right;\">\n",
       "      <th></th>\n",
       "      <th>user_id</th>\n",
       "      <th>event_path</th>\n",
       "      <th>starts_count</th>\n",
       "      <th>finishes_count</th>\n",
       "    </tr>\n",
       "  </thead>\n",
       "  <tbody>\n",
       "    <tr>\n",
       "      <th>0</th>\n",
       "      <td>27845</td>\n",
       "      <td>registration &gt; tutorial_start &gt; tutorial_finis...</td>\n",
       "      <td>2</td>\n",
       "      <td>2</td>\n",
       "    </tr>\n",
       "    <tr>\n",
       "      <th>1</th>\n",
       "      <td>27865</td>\n",
       "      <td>registration &gt; tutorial_start &gt; level_choice &gt;...</td>\n",
       "      <td>1</td>\n",
       "      <td>0</td>\n",
       "    </tr>\n",
       "    <tr>\n",
       "      <th>2</th>\n",
       "      <td>27884</td>\n",
       "      <td>registration &gt; tutorial_start &gt; tutorial_finis...</td>\n",
       "      <td>3</td>\n",
       "      <td>2</td>\n",
       "    </tr>\n",
       "    <tr>\n",
       "      <th>3</th>\n",
       "      <td>27910</td>\n",
       "      <td>registration &gt; tutorial_start &gt; tutorial_finis...</td>\n",
       "      <td>1</td>\n",
       "      <td>1</td>\n",
       "    </tr>\n",
       "    <tr>\n",
       "      <th>4</th>\n",
       "      <td>27911</td>\n",
       "      <td>registration &gt; tutorial_start &gt; level_choice &gt;...</td>\n",
       "      <td>1</td>\n",
       "      <td>0</td>\n",
       "    </tr>\n",
       "  </tbody>\n",
       "</table>\n",
       "</div>"
      ],
      "text/plain": [
       "   user_id                                         event_path  starts_count  \\\n",
       "0    27845  registration > tutorial_start > tutorial_finis...             2   \n",
       "1    27865  registration > tutorial_start > level_choice >...             1   \n",
       "2    27884  registration > tutorial_start > tutorial_finis...             3   \n",
       "3    27910  registration > tutorial_start > tutorial_finis...             1   \n",
       "4    27911  registration > tutorial_start > level_choice >...             1   \n",
       "\n",
       "   finishes_count  \n",
       "0               2  \n",
       "1               0  \n",
       "2               2  \n",
       "3               1  \n",
       "4               0  "
      ]
     },
     "execution_count": 262,
     "metadata": {},
     "output_type": "execute_result"
    }
   ],
   "source": [
    "user_path_df_with_purchase['starts_count'] = user_path_df_with_purchase.event_path.str.count('tutorial_start')\n",
    "user_path_df_with_purchase['finishes_count'] = user_path_df_with_purchase.event_path.str.count('tutorial_finish')\n",
    "user_path_df_with_purchase.head()\n"
   ]
  },
  {
   "attachments": {},
   "cell_type": "markdown",
   "id": "66df7d1c",
   "metadata": {},
   "source": [
    "Создаем функцию category_func,чтобы выделить 4 категории: \n",
    "- 'обучение начато, но не закончено' \n",
    "- 'обучение начато и закончено'\n",
    "- 2 и более обучений начато и закончено'\n",
    "- 'без обучения'"
   ]
  },
  {
   "cell_type": "code",
   "execution_count": 263,
   "id": "4ac892d9",
   "metadata": {},
   "outputs": [],
   "source": [
    "def category_func(row):\n",
    "    if row['starts_count']>=1 and row['finishes_count']==0:\n",
    "        return 'обучение начато, но не закончено'\n",
    "    if row['starts_count']==1 and row['finishes_count']==1:\n",
    "        return 'обучение начато и закончено'\n",
    "    if row['starts_count']>=2 and row['finishes_count']>=1:\n",
    "        return '2 и более обучений начато и закончено'\n",
    "    else:\n",
    "        return 'без обучения'\n",
    "    "
   ]
  },
  {
   "cell_type": "markdown",
   "id": "a67dac6f",
   "metadata": {},
   "source": [
    "Создаем новый столбец category с помощью функции category_func."
   ]
  },
  {
   "cell_type": "code",
   "execution_count": 264,
   "id": "a14e0446",
   "metadata": {},
   "outputs": [
    {
     "data": {
      "text/html": [
       "<div>\n",
       "<style scoped>\n",
       "    .dataframe tbody tr th:only-of-type {\n",
       "        vertical-align: middle;\n",
       "    }\n",
       "\n",
       "    .dataframe tbody tr th {\n",
       "        vertical-align: top;\n",
       "    }\n",
       "\n",
       "    .dataframe thead th {\n",
       "        text-align: right;\n",
       "    }\n",
       "</style>\n",
       "<table border=\"1\" class=\"dataframe\">\n",
       "  <thead>\n",
       "    <tr style=\"text-align: right;\">\n",
       "      <th></th>\n",
       "      <th>user_id</th>\n",
       "      <th>event_path</th>\n",
       "      <th>starts_count</th>\n",
       "      <th>finishes_count</th>\n",
       "      <th>category</th>\n",
       "    </tr>\n",
       "  </thead>\n",
       "  <tbody>\n",
       "    <tr>\n",
       "      <th>0</th>\n",
       "      <td>27845</td>\n",
       "      <td>registration &gt; tutorial_start &gt; tutorial_finis...</td>\n",
       "      <td>2</td>\n",
       "      <td>2</td>\n",
       "      <td>2 и более обучений начато и закончено</td>\n",
       "    </tr>\n",
       "    <tr>\n",
       "      <th>1</th>\n",
       "      <td>27865</td>\n",
       "      <td>registration &gt; tutorial_start &gt; level_choice &gt;...</td>\n",
       "      <td>1</td>\n",
       "      <td>0</td>\n",
       "      <td>обучение начато, но не закончено</td>\n",
       "    </tr>\n",
       "    <tr>\n",
       "      <th>2</th>\n",
       "      <td>27884</td>\n",
       "      <td>registration &gt; tutorial_start &gt; tutorial_finis...</td>\n",
       "      <td>3</td>\n",
       "      <td>2</td>\n",
       "      <td>2 и более обучений начато и закончено</td>\n",
       "    </tr>\n",
       "    <tr>\n",
       "      <th>3</th>\n",
       "      <td>27910</td>\n",
       "      <td>registration &gt; tutorial_start &gt; tutorial_finis...</td>\n",
       "      <td>1</td>\n",
       "      <td>1</td>\n",
       "      <td>обучение начато и закончено</td>\n",
       "    </tr>\n",
       "    <tr>\n",
       "      <th>4</th>\n",
       "      <td>27911</td>\n",
       "      <td>registration &gt; tutorial_start &gt; level_choice &gt;...</td>\n",
       "      <td>1</td>\n",
       "      <td>0</td>\n",
       "      <td>обучение начато, но не закончено</td>\n",
       "    </tr>\n",
       "  </tbody>\n",
       "</table>\n",
       "</div>"
      ],
      "text/plain": [
       "   user_id                                         event_path  starts_count  \\\n",
       "0    27845  registration > tutorial_start > tutorial_finis...             2   \n",
       "1    27865  registration > tutorial_start > level_choice >...             1   \n",
       "2    27884  registration > tutorial_start > tutorial_finis...             3   \n",
       "3    27910  registration > tutorial_start > tutorial_finis...             1   \n",
       "4    27911  registration > tutorial_start > level_choice >...             1   \n",
       "\n",
       "   finishes_count                               category  \n",
       "0               2  2 и более обучений начато и закончено  \n",
       "1               0       обучение начато, но не закончено  \n",
       "2               2  2 и более обучений начато и закончено  \n",
       "3               1            обучение начато и закончено  \n",
       "4               0       обучение начато, но не закончено  "
      ]
     },
     "execution_count": 264,
     "metadata": {},
     "output_type": "execute_result"
    }
   ],
   "source": [
    "user_path_df_with_purchase['category'] = user_path_df_with_purchase.apply(category_func,axis=1)\n",
    "user_path_df_with_purchase.head()"
   ]
  },
  {
   "cell_type": "markdown",
   "id": "9bb42c1d",
   "metadata": {},
   "source": [
    "В новой categories_df группируем данные по категориям и подсчитываем кол-во пользователей в каждой из них."
   ]
  },
  {
   "cell_type": "code",
   "execution_count": 265,
   "id": "c62bfe36",
   "metadata": {},
   "outputs": [
    {
     "data": {
      "text/plain": [
       "category\n",
       "обучение начато и закончено              1083\n",
       "2 и более обучений начато и закончено     364\n",
       "обучение начато, но не закончено          131\n",
       "без обучения                               22\n",
       "Name: user_id, dtype: int64"
      ]
     },
     "execution_count": 265,
     "metadata": {},
     "output_type": "execute_result"
    }
   ],
   "source": [
    "categories_df = user_path_df_with_purchase.groupby('category')['user_id'].count().sort_values(ascending=False)\n",
    "categories_df.head()"
   ]
  },
  {
   "cell_type": "markdown",
   "id": "fdc7a8b5",
   "metadata": {},
   "source": [
    "Создаем круговую диаграмму на основе библиотеки Matplotlib."
   ]
  },
  {
   "cell_type": "code",
   "execution_count": 266,
   "id": "21ef46e4",
   "metadata": {},
   "outputs": [
    {
     "data": {
      "text/plain": [
       "Text(0.5, 1.0, 'Категории пользователей совершавших оплату (зависимость от обучения)')"
      ]
     },
     "execution_count": 266,
     "metadata": {},
     "output_type": "execute_result"
    },
    {
     "data": {
      "image/png": "[encoded data removed]",
      "text/plain": [
       "<Figure size 500x500 with 1 Axes>"
      ]
     },
     "metadata": {},
     "output_type": "display_data"
    }
   ],
   "source": [
    "fig = plt.figure(figsize=(5, 5))\n",
    "axes = fig.add_axes([0, 0, 1, 1])\n",
    "axes.pie(\n",
    "    categories_df,\n",
    "    labels=categories_df.index,\n",
    "    autopct='%.1f%%',\n",
    ");\n",
    "axes.set_title('Категории пользователей совершавших оплату (зависимость от обучения)', fontsize=16)"
   ]
  },
  {
   "attachments": {},
   "cell_type": "markdown",
   "id": "3de0d7c4",
   "metadata": {},
   "source": [
    "### <a name='link6'></a> Выводы по 2-ой гипотезе\n",
    "\n",
    "-**законченное** обучение является залогом дальнейших покупок;\n",
    "\n",
    "-**повторное** обучение составляет только 22% по сравнению с 67% **одноразового**. Т.е. не так важно сколько было попыток обучения, важно, чтобы они были завершены;\n",
    "\n",
    "-незаконченное обучение - лучше чем, его отсутствие (8.2% по сравнению с 1.4%);\n",
    "\n",
    "-пропустив этап обучения, пользователь почти наверняка НЕ совершит покупку.\n"
   ]
  },
  {
   "attachments": {},
   "cell_type": "markdown",
   "id": "94d50772",
   "metadata": {},
   "source": [
    "### <a name='link7'></a> Проверка 3-ей гипотезы. Насколько прозрачен процесс взаимодействия с игрой"
   ]
  },
  {
   "attachments": {},
   "cell_type": "markdown",
   "id": "33ab8d44",
   "metadata": {},
   "source": [
    "Воспользуемся созданной ранее total_events_df."
   ]
  },
  {
   "cell_type": "code",
   "execution_count": 267,
   "id": "33e32749",
   "metadata": {},
   "outputs": [
    {
     "data": {
      "text/html": [
       "<div>\n",
       "<style scoped>\n",
       "    .dataframe tbody tr th:only-of-type {\n",
       "        vertical-align: middle;\n",
       "    }\n",
       "\n",
       "    .dataframe tbody tr th {\n",
       "        vertical-align: top;\n",
       "    }\n",
       "\n",
       "    .dataframe thead th {\n",
       "        text-align: right;\n",
       "    }\n",
       "</style>\n",
       "<table border=\"1\" class=\"dataframe\">\n",
       "  <thead>\n",
       "    <tr style=\"text-align: right;\">\n",
       "      <th></th>\n",
       "      <th>event_id</th>\n",
       "      <th>event_type</th>\n",
       "      <th>selected_level</th>\n",
       "      <th>start_time</th>\n",
       "      <th>tutorial_id</th>\n",
       "      <th>user_id</th>\n",
       "      <th>purchase_id</th>\n",
       "      <th>amount</th>\n",
       "    </tr>\n",
       "  </thead>\n",
       "  <tbody>\n",
       "    <tr>\n",
       "      <th>0</th>\n",
       "      <td>80308.0</td>\n",
       "      <td>registration</td>\n",
       "      <td>NaN</td>\n",
       "      <td>2018-01-01 03:48:40</td>\n",
       "      <td>NaN</td>\n",
       "      <td>27832</td>\n",
       "      <td>NaN</td>\n",
       "      <td>NaN</td>\n",
       "    </tr>\n",
       "    <tr>\n",
       "      <th>1</th>\n",
       "      <td>80309.0</td>\n",
       "      <td>registration</td>\n",
       "      <td>NaN</td>\n",
       "      <td>2018-01-01 04:07:25</td>\n",
       "      <td>NaN</td>\n",
       "      <td>27833</td>\n",
       "      <td>NaN</td>\n",
       "      <td>NaN</td>\n",
       "    </tr>\n",
       "    <tr>\n",
       "      <th>2</th>\n",
       "      <td>80310.0</td>\n",
       "      <td>registration</td>\n",
       "      <td>NaN</td>\n",
       "      <td>2018-01-01 08:35:10</td>\n",
       "      <td>NaN</td>\n",
       "      <td>27834</td>\n",
       "      <td>NaN</td>\n",
       "      <td>NaN</td>\n",
       "    </tr>\n",
       "    <tr>\n",
       "      <th>3</th>\n",
       "      <td>80311.0</td>\n",
       "      <td>registration</td>\n",
       "      <td>NaN</td>\n",
       "      <td>2018-01-01 11:54:47</td>\n",
       "      <td>NaN</td>\n",
       "      <td>27835</td>\n",
       "      <td>NaN</td>\n",
       "      <td>NaN</td>\n",
       "    </tr>\n",
       "    <tr>\n",
       "      <th>4</th>\n",
       "      <td>80312.0</td>\n",
       "      <td>registration</td>\n",
       "      <td>NaN</td>\n",
       "      <td>2018-01-01 13:28:07</td>\n",
       "      <td>NaN</td>\n",
       "      <td>27836</td>\n",
       "      <td>NaN</td>\n",
       "      <td>NaN</td>\n",
       "    </tr>\n",
       "    <tr>\n",
       "      <th>...</th>\n",
       "      <td>...</td>\n",
       "      <td>...</td>\n",
       "      <td>...</td>\n",
       "      <td>...</td>\n",
       "      <td>...</td>\n",
       "      <td>...</td>\n",
       "      <td>...</td>\n",
       "      <td>...</td>\n",
       "    </tr>\n",
       "    <tr>\n",
       "      <th>68554</th>\n",
       "      <td>NaN</td>\n",
       "      <td>purchase</td>\n",
       "      <td>NaN</td>\n",
       "      <td>2019-01-02 03:48:19</td>\n",
       "      <td>NaN</td>\n",
       "      <td>47498</td>\n",
       "      <td>18441.0</td>\n",
       "      <td>100.0</td>\n",
       "    </tr>\n",
       "    <tr>\n",
       "      <th>68555</th>\n",
       "      <td>NaN</td>\n",
       "      <td>purchase</td>\n",
       "      <td>NaN</td>\n",
       "      <td>2019-01-02 23:26:26</td>\n",
       "      <td>NaN</td>\n",
       "      <td>47647</td>\n",
       "      <td>18442.0</td>\n",
       "      <td>150.0</td>\n",
       "    </tr>\n",
       "    <tr>\n",
       "      <th>68556</th>\n",
       "      <td>NaN</td>\n",
       "      <td>purchase</td>\n",
       "      <td>NaN</td>\n",
       "      <td>2019-01-03 00:36:36</td>\n",
       "      <td>NaN</td>\n",
       "      <td>47554</td>\n",
       "      <td>18443.0</td>\n",
       "      <td>50.0</td>\n",
       "    </tr>\n",
       "    <tr>\n",
       "      <th>68557</th>\n",
       "      <td>NaN</td>\n",
       "      <td>purchase</td>\n",
       "      <td>NaN</td>\n",
       "      <td>2019-01-04 12:51:41</td>\n",
       "      <td>NaN</td>\n",
       "      <td>47742</td>\n",
       "      <td>18448.0</td>\n",
       "      <td>50.0</td>\n",
       "    </tr>\n",
       "    <tr>\n",
       "      <th>68558</th>\n",
       "      <td>NaN</td>\n",
       "      <td>purchase</td>\n",
       "      <td>NaN</td>\n",
       "      <td>2019-01-06 07:14:25</td>\n",
       "      <td>NaN</td>\n",
       "      <td>47732</td>\n",
       "      <td>18452.0</td>\n",
       "      <td>150.0</td>\n",
       "    </tr>\n",
       "  </tbody>\n",
       "</table>\n",
       "<p>68559 rows × 8 columns</p>\n",
       "</div>"
      ],
      "text/plain": [
       "       event_id    event_type selected_level          start_time  tutorial_id  \\\n",
       "0       80308.0  registration            NaN 2018-01-01 03:48:40          NaN   \n",
       "1       80309.0  registration            NaN 2018-01-01 04:07:25          NaN   \n",
       "2       80310.0  registration            NaN 2018-01-01 08:35:10          NaN   \n",
       "3       80311.0  registration            NaN 2018-01-01 11:54:47          NaN   \n",
       "4       80312.0  registration            NaN 2018-01-01 13:28:07          NaN   \n",
       "...         ...           ...            ...                 ...          ...   \n",
       "68554       NaN      purchase            NaN 2019-01-02 03:48:19          NaN   \n",
       "68555       NaN      purchase            NaN 2019-01-02 23:26:26          NaN   \n",
       "68556       NaN      purchase            NaN 2019-01-03 00:36:36          NaN   \n",
       "68557       NaN      purchase            NaN 2019-01-04 12:51:41          NaN   \n",
       "68558       NaN      purchase            NaN 2019-01-06 07:14:25          NaN   \n",
       "\n",
       "       user_id  purchase_id  amount  \n",
       "0        27832          NaN     NaN  \n",
       "1        27833          NaN     NaN  \n",
       "2        27834          NaN     NaN  \n",
       "3        27835          NaN     NaN  \n",
       "4        27836          NaN     NaN  \n",
       "...        ...          ...     ...  \n",
       "68554    47498      18441.0   100.0  \n",
       "68555    47647      18442.0   150.0  \n",
       "68556    47554      18443.0    50.0  \n",
       "68557    47742      18448.0    50.0  \n",
       "68558    47732      18452.0   150.0  \n",
       "\n",
       "[68559 rows x 8 columns]"
      ]
     },
     "execution_count": 267,
     "metadata": {},
     "output_type": "execute_result"
    }
   ],
   "source": [
    "total_events_df"
   ]
  },
  {
   "attachments": {},
   "cell_type": "markdown",
   "id": "94086f89",
   "metadata": {},
   "source": [
    "\n",
    "Создадим сводную new_total_events_3, где отобразим самое ранее ('min') время для всех событий ('event_type'). Удалим лишние столбцы, сбросим индекс, удалим пропуски. В результате получаем только тех пользователей, которые дошли до этапа 'level_choice', т.е. начали играть."
   ]
  },
  {
   "cell_type": "code",
   "execution_count": 268,
   "id": "d1a7ce70",
   "metadata": {},
   "outputs": [
    {
     "data": {
      "text/html": [
       "<div>\n",
       "<style scoped>\n",
       "    .dataframe tbody tr th:only-of-type {\n",
       "        vertical-align: middle;\n",
       "    }\n",
       "\n",
       "    .dataframe tbody tr th {\n",
       "        vertical-align: top;\n",
       "    }\n",
       "\n",
       "    .dataframe thead th {\n",
       "        text-align: right;\n",
       "    }\n",
       "</style>\n",
       "<table border=\"1\" class=\"dataframe\">\n",
       "  <thead>\n",
       "    <tr style=\"text-align: right;\">\n",
       "      <th>event_type</th>\n",
       "      <th>user_id</th>\n",
       "      <th>level_choice</th>\n",
       "    </tr>\n",
       "  </thead>\n",
       "  <tbody>\n",
       "    <tr>\n",
       "      <th>3</th>\n",
       "      <td>27835</td>\n",
       "      <td>2018-01-01 20:37:22</td>\n",
       "    </tr>\n",
       "    <tr>\n",
       "      <th>7</th>\n",
       "      <td>27839</td>\n",
       "      <td>2018-01-01 22:37:50</td>\n",
       "    </tr>\n",
       "    <tr>\n",
       "      <th>8</th>\n",
       "      <td>27840</td>\n",
       "      <td>2018-01-02 05:18:42</td>\n",
       "    </tr>\n",
       "    <tr>\n",
       "      <th>10</th>\n",
       "      <td>27842</td>\n",
       "      <td>2018-01-02 08:46:03</td>\n",
       "    </tr>\n",
       "    <tr>\n",
       "      <th>11</th>\n",
       "      <td>27843</td>\n",
       "      <td>2018-01-02 14:09:58</td>\n",
       "    </tr>\n",
       "    <tr>\n",
       "      <th>...</th>\n",
       "      <td>...</td>\n",
       "      <td>...</td>\n",
       "    </tr>\n",
       "    <tr>\n",
       "      <th>19912</th>\n",
       "      <td>47744</td>\n",
       "      <td>2018-12-31 07:53:04</td>\n",
       "    </tr>\n",
       "    <tr>\n",
       "      <th>19915</th>\n",
       "      <td>47747</td>\n",
       "      <td>2018-12-31 12:24:40</td>\n",
       "    </tr>\n",
       "    <tr>\n",
       "      <th>19921</th>\n",
       "      <td>47753</td>\n",
       "      <td>2018-12-31 22:36:19</td>\n",
       "    </tr>\n",
       "    <tr>\n",
       "      <th>19923</th>\n",
       "      <td>47755</td>\n",
       "      <td>2019-01-01 05:04:52</td>\n",
       "    </tr>\n",
       "    <tr>\n",
       "      <th>19924</th>\n",
       "      <td>47756</td>\n",
       "      <td>2019-01-01 05:42:11</td>\n",
       "    </tr>\n",
       "  </tbody>\n",
       "</table>\n",
       "<p>8342 rows × 2 columns</p>\n",
       "</div>"
      ],
      "text/plain": [
       "event_type  user_id        level_choice\n",
       "3             27835 2018-01-01 20:37:22\n",
       "7             27839 2018-01-01 22:37:50\n",
       "8             27840 2018-01-02 05:18:42\n",
       "10            27842 2018-01-02 08:46:03\n",
       "11            27843 2018-01-02 14:09:58\n",
       "...             ...                 ...\n",
       "19912         47744 2018-12-31 07:53:04\n",
       "19915         47747 2018-12-31 12:24:40\n",
       "19921         47753 2018-12-31 22:36:19\n",
       "19923         47755 2019-01-01 05:04:52\n",
       "19924         47756 2019-01-01 05:42:11\n",
       "\n",
       "[8342 rows x 2 columns]"
      ]
     },
     "execution_count": 268,
     "metadata": {},
     "output_type": "execute_result"
    }
   ],
   "source": [
    "new_total_events_3 = total_events_df.pivot_table (\n",
    "    values='start_time',\n",
    "    index='user_id',\n",
    "    columns='event_type'\n",
    "     , aggfunc='min' \n",
    ")\n",
    "new_total_events_3 = new_total_events_3.reset_index()\n",
    "new_total_events_3 = new_total_events_3.drop(['pack_choice','purchase','registration','tutorial_finish','tutorial_start'],axis=1)\n",
    "new_total_events_3 = new_total_events_3.dropna(axis=0)\n",
    "new_total_events_3"
   ]
  },
  {
   "attachments": {},
   "cell_type": "markdown",
   "id": "31f88678",
   "metadata": {},
   "source": [
    "Создадим сводную new_total_events_4, где отобразим самое позднее ('max') время для всех событий ('event_type'). Удалим лишние столбцы, сбросим индекс. В результате получаем пользователей и самое позднее время для начала обучения."
   ]
  },
  {
   "cell_type": "code",
   "execution_count": 269,
   "id": "47305dcd",
   "metadata": {},
   "outputs": [
    {
     "data": {
      "text/html": [
       "<div>\n",
       "<style scoped>\n",
       "    .dataframe tbody tr th:only-of-type {\n",
       "        vertical-align: middle;\n",
       "    }\n",
       "\n",
       "    .dataframe tbody tr th {\n",
       "        vertical-align: top;\n",
       "    }\n",
       "\n",
       "    .dataframe thead th {\n",
       "        text-align: right;\n",
       "    }\n",
       "</style>\n",
       "<table border=\"1\" class=\"dataframe\">\n",
       "  <thead>\n",
       "    <tr style=\"text-align: right;\">\n",
       "      <th>event_type</th>\n",
       "      <th>user_id</th>\n",
       "      <th>tutorial_start</th>\n",
       "    </tr>\n",
       "  </thead>\n",
       "  <tbody>\n",
       "    <tr>\n",
       "      <th>0</th>\n",
       "      <td>27832</td>\n",
       "      <td>NaT</td>\n",
       "    </tr>\n",
       "    <tr>\n",
       "      <th>1</th>\n",
       "      <td>27833</td>\n",
       "      <td>2018-01-01 17:47:40</td>\n",
       "    </tr>\n",
       "    <tr>\n",
       "      <th>2</th>\n",
       "      <td>27834</td>\n",
       "      <td>2018-01-01 19:46:11</td>\n",
       "    </tr>\n",
       "    <tr>\n",
       "      <th>3</th>\n",
       "      <td>27835</td>\n",
       "      <td>2018-01-01 15:00:51</td>\n",
       "    </tr>\n",
       "    <tr>\n",
       "      <th>4</th>\n",
       "      <td>27836</td>\n",
       "      <td>2018-01-01 15:40:43</td>\n",
       "    </tr>\n",
       "    <tr>\n",
       "      <th>...</th>\n",
       "      <td>...</td>\n",
       "      <td>...</td>\n",
       "    </tr>\n",
       "    <tr>\n",
       "      <th>19921</th>\n",
       "      <td>47753</td>\n",
       "      <td>2018-12-31 20:54:56</td>\n",
       "    </tr>\n",
       "    <tr>\n",
       "      <th>19922</th>\n",
       "      <td>47754</td>\n",
       "      <td>NaT</td>\n",
       "    </tr>\n",
       "    <tr>\n",
       "      <th>19923</th>\n",
       "      <td>47755</td>\n",
       "      <td>2019-01-01 00:08:14</td>\n",
       "    </tr>\n",
       "    <tr>\n",
       "      <th>19924</th>\n",
       "      <td>47756</td>\n",
       "      <td>2019-01-01 03:26:18</td>\n",
       "    </tr>\n",
       "    <tr>\n",
       "      <th>19925</th>\n",
       "      <td>47757</td>\n",
       "      <td>NaT</td>\n",
       "    </tr>\n",
       "  </tbody>\n",
       "</table>\n",
       "<p>19926 rows × 2 columns</p>\n",
       "</div>"
      ],
      "text/plain": [
       "event_type  user_id      tutorial_start\n",
       "0             27832                 NaT\n",
       "1             27833 2018-01-01 17:47:40\n",
       "2             27834 2018-01-01 19:46:11\n",
       "3             27835 2018-01-01 15:00:51\n",
       "4             27836 2018-01-01 15:40:43\n",
       "...             ...                 ...\n",
       "19921         47753 2018-12-31 20:54:56\n",
       "19922         47754                 NaT\n",
       "19923         47755 2019-01-01 00:08:14\n",
       "19924         47756 2019-01-01 03:26:18\n",
       "19925         47757                 NaT\n",
       "\n",
       "[19926 rows x 2 columns]"
      ]
     },
     "execution_count": 269,
     "metadata": {},
     "output_type": "execute_result"
    }
   ],
   "source": [
    "new_total_events_4 = total_events_df.pivot_table (\n",
    "    values='start_time',\n",
    "    index='user_id',\n",
    "    columns='event_type'\n",
    "     , aggfunc='max' \n",
    ")\n",
    "new_total_events_4 = new_total_events_4.reset_index()\n",
    "new_total_events_4 = new_total_events_4.drop(['pack_choice','purchase','registration','tutorial_finish','level_choice'],axis=1)\n",
    "new_total_events_4"
   ]
  },
  {
   "attachments": {},
   "cell_type": "markdown",
   "id": "7a862577",
   "metadata": {},
   "source": [
    "Объеденим таблицы по принципу 'left', т.е. оставим только активных игроков. Вычислим time_delta - разницу во времени между обучением и началом игры. Приведем time_delta к числовому значению (в минутах)."
   ]
  },
  {
   "cell_type": "code",
   "execution_count": 270,
   "id": "1d884f3d",
   "metadata": {},
   "outputs": [
    {
     "data": {
      "text/html": [
       "<div>\n",
       "<style scoped>\n",
       "    .dataframe tbody tr th:only-of-type {\n",
       "        vertical-align: middle;\n",
       "    }\n",
       "\n",
       "    .dataframe tbody tr th {\n",
       "        vertical-align: top;\n",
       "    }\n",
       "\n",
       "    .dataframe thead th {\n",
       "        text-align: right;\n",
       "    }\n",
       "</style>\n",
       "<table border=\"1\" class=\"dataframe\">\n",
       "  <thead>\n",
       "    <tr style=\"text-align: right;\">\n",
       "      <th>event_type</th>\n",
       "      <th>user_id</th>\n",
       "      <th>level_choice</th>\n",
       "      <th>tutorial_start</th>\n",
       "      <th>time_delta</th>\n",
       "    </tr>\n",
       "  </thead>\n",
       "  <tbody>\n",
       "    <tr>\n",
       "      <th>0</th>\n",
       "      <td>27835</td>\n",
       "      <td>2018-01-01 20:37:22</td>\n",
       "      <td>2018-01-01 15:00:51</td>\n",
       "      <td>-336.516667</td>\n",
       "    </tr>\n",
       "    <tr>\n",
       "      <th>1</th>\n",
       "      <td>27839</td>\n",
       "      <td>2018-01-01 22:37:50</td>\n",
       "      <td>2018-01-01 19:11:36</td>\n",
       "      <td>-206.233333</td>\n",
       "    </tr>\n",
       "    <tr>\n",
       "      <th>2</th>\n",
       "      <td>27840</td>\n",
       "      <td>2018-01-02 05:18:42</td>\n",
       "      <td>2018-01-02 02:07:07</td>\n",
       "      <td>-191.583333</td>\n",
       "    </tr>\n",
       "    <tr>\n",
       "      <th>3</th>\n",
       "      <td>27842</td>\n",
       "      <td>2018-01-02 08:46:03</td>\n",
       "      <td>2018-01-02 18:08:01</td>\n",
       "      <td>561.966667</td>\n",
       "    </tr>\n",
       "    <tr>\n",
       "      <th>4</th>\n",
       "      <td>27843</td>\n",
       "      <td>2018-01-02 14:09:58</td>\n",
       "      <td>2018-01-02 13:34:51</td>\n",
       "      <td>-35.116667</td>\n",
       "    </tr>\n",
       "    <tr>\n",
       "      <th>...</th>\n",
       "      <td>...</td>\n",
       "      <td>...</td>\n",
       "      <td>...</td>\n",
       "      <td>...</td>\n",
       "    </tr>\n",
       "    <tr>\n",
       "      <th>8337</th>\n",
       "      <td>47744</td>\n",
       "      <td>2018-12-31 07:53:04</td>\n",
       "      <td>2018-12-31 06:51:17</td>\n",
       "      <td>-61.783333</td>\n",
       "    </tr>\n",
       "    <tr>\n",
       "      <th>8338</th>\n",
       "      <td>47747</td>\n",
       "      <td>2018-12-31 12:24:40</td>\n",
       "      <td>2018-12-31 10:21:11</td>\n",
       "      <td>-123.483333</td>\n",
       "    </tr>\n",
       "    <tr>\n",
       "      <th>8339</th>\n",
       "      <td>47753</td>\n",
       "      <td>2018-12-31 22:36:19</td>\n",
       "      <td>2018-12-31 20:54:56</td>\n",
       "      <td>-101.383333</td>\n",
       "    </tr>\n",
       "    <tr>\n",
       "      <th>8340</th>\n",
       "      <td>47755</td>\n",
       "      <td>2019-01-01 05:04:52</td>\n",
       "      <td>2019-01-01 00:08:14</td>\n",
       "      <td>-296.633333</td>\n",
       "    </tr>\n",
       "    <tr>\n",
       "      <th>8341</th>\n",
       "      <td>47756</td>\n",
       "      <td>2019-01-01 05:42:11</td>\n",
       "      <td>2019-01-01 03:26:18</td>\n",
       "      <td>-135.883333</td>\n",
       "    </tr>\n",
       "  </tbody>\n",
       "</table>\n",
       "<p>8342 rows × 4 columns</p>\n",
       "</div>"
      ],
      "text/plain": [
       "event_type  user_id        level_choice      tutorial_start  time_delta\n",
       "0             27835 2018-01-01 20:37:22 2018-01-01 15:00:51 -336.516667\n",
       "1             27839 2018-01-01 22:37:50 2018-01-01 19:11:36 -206.233333\n",
       "2             27840 2018-01-02 05:18:42 2018-01-02 02:07:07 -191.583333\n",
       "3             27842 2018-01-02 08:46:03 2018-01-02 18:08:01  561.966667\n",
       "4             27843 2018-01-02 14:09:58 2018-01-02 13:34:51  -35.116667\n",
       "...             ...                 ...                 ...         ...\n",
       "8337          47744 2018-12-31 07:53:04 2018-12-31 06:51:17  -61.783333\n",
       "8338          47747 2018-12-31 12:24:40 2018-12-31 10:21:11 -123.483333\n",
       "8339          47753 2018-12-31 22:36:19 2018-12-31 20:54:56 -101.383333\n",
       "8340          47755 2019-01-01 05:04:52 2019-01-01 00:08:14 -296.633333\n",
       "8341          47756 2019-01-01 05:42:11 2019-01-01 03:26:18 -135.883333\n",
       "\n",
       "[8342 rows x 4 columns]"
      ]
     },
     "execution_count": 270,
     "metadata": {},
     "output_type": "execute_result"
    }
   ],
   "source": [
    "new_total_events_5 = new_total_events_3.merge(new_total_events_4,on='user_id',how='left')\n",
    "new_total_events_5['time_delta'] = new_total_events_5['tutorial_start']-new_total_events_5['level_choice']\n",
    "new_total_events_5['time_delta'] = new_total_events_5['time_delta']/pd.Timedelta('1 minute')\n",
    "new_total_events_5"
   ]
  },
  {
   "attachments": {},
   "cell_type": "markdown",
   "id": "3ba48581",
   "metadata": {},
   "source": [
    "Создадим функцию для определения типа игрока. Если time_delta больше нуля, значит пользователь начинал играть, а потом вернулся к этапу обучения. В категории 'прочие' - множество других вариантов, которые не имеют значения для проверки 3-ей гипотезы."
   ]
  },
  {
   "cell_type": "code",
   "execution_count": 271,
   "id": "84507aeb",
   "metadata": {},
   "outputs": [],
   "source": [
    "def get_type_user(x):\n",
    "    if x>0:\n",
    "        return 'вернулся к обучению после игры'\n",
    "    else:\n",
    "        return 'прочие'\n",
    "    "
   ]
  },
  {
   "attachments": {},
   "cell_type": "markdown",
   "id": "0d37b69f",
   "metadata": {},
   "source": [
    "Создадим столбец type_of_user используя функцию get_type_user. Сгруппируем по type_of_user и подсчитаем кол-во игроков по категориям."
   ]
  },
  {
   "cell_type": "code",
   "execution_count": 272,
   "id": "d2d2230e",
   "metadata": {},
   "outputs": [
    {
     "data": {
      "text/plain": [
       "type_of_user\n",
       "вернулся к обучению после игры    1386\n",
       "прочие                            6956\n",
       "Name: user_id, dtype: int64"
      ]
     },
     "execution_count": 272,
     "metadata": {},
     "output_type": "execute_result"
    }
   ],
   "source": [
    "new_total_events_5['type_of_user'] = new_total_events_5['time_delta'].apply(get_type_user)\n",
    "new_total_events_5 = new_total_events_5.groupby(['type_of_user'])['user_id'].count()\n",
    "new_total_events_5"
   ]
  },
  {
   "attachments": {},
   "cell_type": "markdown",
   "id": "2663b6db",
   "metadata": {},
   "source": [
    "Создадим круговую диаграмму с помощью библиотеки matplotlib."
   ]
  },
  {
   "cell_type": "code",
   "execution_count": 273,
   "id": "24b6b97f",
   "metadata": {},
   "outputs": [
    {
     "data": {
      "text/plain": [
       "Text(0.5, 1.0, 'Поведение пользователей (с точки зрения ясности прохождения игры)')"
      ]
     },
     "execution_count": 273,
     "metadata": {},
     "output_type": "execute_result"
    },
    {
     "data": {
      "image/png": "[encoded data removed]",
      "text/plain": [
       "<Figure size 500x500 with 1 Axes>"
      ]
     },
     "metadata": {},
     "output_type": "display_data"
    }
   ],
   "source": [
    "fig = plt.figure(figsize=(5, 5))\n",
    "axes = fig.add_axes([0, 0, 1, 1])\n",
    "axes.pie(\n",
    "    new_total_events_5,\n",
    "    labels=new_total_events_5.index,\n",
    "    autopct='%.1f%%',\n",
    ");\n",
    "axes.set_title('Поведение пользователей (с точки зрения ясности прохождения игры)', fontsize=16)"
   ]
  },
  {
   "attachments": {},
   "cell_type": "markdown",
   "id": "17591f05",
   "metadata": {},
   "source": [
    "###  <a name='link8'></a> Выводы по 3-ей гипотезе\n",
    "\n",
    "-Для проверки гипотезы рассматривались только игроки начинавшие игру хотя бы один раз (дошли до этапа level_choice).\n",
    "Среди них **16,6%  - в дальнейшем вернулись к обучению** (в первый раз или повторно). Можно сделать вывод, что процесс взаимодействия с игрой достаточно прозрачен, но есть потенциал для его совершенствования.\n",
    "\n"
   ]
  },
  {
   "attachments": {},
   "cell_type": "markdown",
   "id": "3b0a9b58",
   "metadata": {},
   "source": [
    "### <a name='link9'></a> Финальные выводы и рекомендации\n"
   ]
  },
  {
   "attachments": {},
   "cell_type": "markdown",
   "id": "e501c865",
   "metadata": {},
   "source": [
    "### Гипотеза 1\n",
    "\n",
    "- Не прослеживается явной связи между обучением и скоростью прохождения этапов игры.\n",
    "\n",
    "- Пользователи завершившие обучение (по сравнению с не проходившими)чуть быстрее доходят до покупки. От этапа выбора пакета вопросов на 14%, от этапа регистрации на 10%.\n"
   ]
  },
  {
   "attachments": {},
   "cell_type": "markdown",
   "id": "abac12a1",
   "metadata": {},
   "source": [
    "### Гипотеза 2\n",
    "\n",
    "- Завершенное обучение безусловно положительно влияет на покупки (90.5% всех оплат). При этом повторное обучение значительно уступает первичному, т.е. не является важным фактором."
   ]
  },
  {
   "attachments": {},
   "cell_type": "markdown",
   "id": "bded5c5f",
   "metadata": {},
   "source": [
    "### Гипотеза 3"
   ]
  },
  {
   "attachments": {},
   "cell_type": "markdown",
   "id": "f85aba6a",
   "metadata": {},
   "source": [
    "- Процесс взаимодействия с игрой достаточно ясен и прозрачен. Процент возвращающихся к этапу обучения - 16,6%, т.е. есть потенциал для совершенствования."
   ]
  },
  {
   "attachments": {},
   "cell_type": "markdown",
   "id": "f9a465b4",
   "metadata": {},
   "source": [
    "### Рекомендации\n",
    "\n",
    "- Сразу после регистрации сосредоточить внимание пользователя на обучении и поощрять его успешное окончание.\n",
    "\n",
    "- Усовершенствовать процесс взаимодействия с игрой, сделать его еще более прозрачным и ясным.\n",
    "\n"
   ]
  }
 ],
 "metadata": {
  "kernelspec": {
   "display_name": "Python 3",
   "language": "python",
   "name": "python3"
  },
  "language_info": {
   "codemirror_mode": {
    "name": "ipython",
    "version": 3
   },
   "file_extension": ".py",
   "mimetype": "text/x-python",
   "name": "python",
   "nbconvert_exporter": "python",
   "pygments_lexer": "ipython3",
   "version": "3.9.10"
  },
  "vscode": {
   "interpreter": {
    "hash": "4cff3abf1678755e0069fd79299a535fe1940bcd71a6b01d9f4386710b2b163f"
   }
  }
 },
 "nbformat": 4,
 "nbformat_minor": 5
}
