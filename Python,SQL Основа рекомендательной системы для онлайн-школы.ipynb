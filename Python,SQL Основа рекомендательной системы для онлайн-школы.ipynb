{
 "cells": [
  {
   "attachments": {},
   "cell_type": "markdown",
   "metadata": {},
   "source": [
    "### Проект 4 - Подготовка рекомендательной системы для сайта \n",
    "\n",
    "КЕЙС \n",
    "Онлайн-школа MasterMind стремится к увеличению среднего чека за счет рекомендательной системы на сайте. При оформлении корзины пользователь должен получить рекомендацию еще на два курса. \n",
    "\n",
    "ЦЕЛЬ\n",
    "Подготовить основу рекомендательной системы.\n",
    "\n",
    "ЗАДАЧИ\n",
    "1. Проанализировать базу данных о продажах за 2017-2018 гг. с помощью SQL\n",
    "2. Выгрузить из БД необходимые данные\n",
    "3. Обработать данные в Python\n",
    "4. Получить рекомендательную таблицу\n",
    "\n",
    "\n",
    "\n",
    "\n"
   ]
  },
  {
   "cell_type": "code",
   "execution_count": 449,
   "metadata": {},
   "outputs": [],
   "source": [
    "import pandas as pd #импортируем все необходимые библиотеки и модули\n",
    "import itertools\n",
    "import numpy as np\n",
    "import psycopg2\n",
    "from collections import Counter\n",
    "from collections import defaultdict\n"
   ]
  },
  {
   "attachments": {},
   "cell_type": "markdown",
   "metadata": {},
   "source": [
    " ### Комментарий к коду SQL"
   ]
  },
  {
   "attachments": {},
   "cell_type": "markdown",
   "metadata": {},
   "source": [
    "\n",
    "    with course_count as(             - CTE где отображены все пользователи купившие курсы и кол-во купленных ими курсов\n",
    "    select \n",
    "    distinct c.user_id,\n",
    "    count(distinct(ci.resource_id)) total_courses\n",
    "    from final.carts as c\n",
    "    join final.cart_items as ci on c.id=ci.cart_id\n",
    "    where c.state='successful' and ci.resource_type='Course'\n",
    "    group by c.user_id)                                      "
   ]
  },
  {
   "attachments": {},
   "cell_type": "markdown",
   "metadata": {},
   "source": [
    "\n",
    "    select                                      - Основной запрос: все уникальные пользователи и номера курсов              \n",
    "    distinct(cc.user_id),\n",
    "    ci.resource_id\n",
    "    from final.carts as c \n",
    "    join course_count as cc on cc.user_id=c.user_id\n",
    "    join final.cart_items as ci on ci.cart_id=c.id\n",
    "    where cc.total_courses>=2 and                 - Только пол-ти купившие больше 2-ух курсов\n",
    "    c.state='successful' and ci.resource_type='Course'\n",
    "    order by 1                                       "
   ]
  },
  {
   "cell_type": "code",
   "execution_count": 450,
   "metadata": {},
   "outputs": [],
   "source": [
    "# запрос к БД содержащий SQL код\n",
    "try: \n",
    "    connection = psycopg2.connect( #параметры подключения к БД\n",
    "        dbname='skillfactory', \n",
    "        user='skillfactory',\n",
    "        host='84.201.134.129',\n",
    "        password='cCkxxLVrDE8EbvjueeMedPKt',\n",
    "        port=5432,\n",
    "    )\n",
    "    cursor = connection.cursor()\n",
    "    #SQL код\n",
    "    postgres_select_query = \"\"\" with course_count as(\n",
    "    select \n",
    "    distinct c.user_id,\n",
    "    count(distinct(ci.resource_id)) total_courses\n",
    "    from final.carts as c\n",
    "    join final.cart_items as ci on c.id=ci.cart_id\n",
    "    where c.state='successful' and ci.resource_type='Course'\n",
    "    group by c.user_id)\n",
    "    select \n",
    "    distinct(cc.user_id),\n",
    "    ci.resource_id\n",
    "    from final.carts as c \n",
    "    join course_count as cc on cc.user_id=c.user_id\n",
    "    join final.cart_items as ci on ci.cart_id=c.id\n",
    "    where cc.total_courses>=2 and ci.resource_type='Course' and c.state='successful' \n",
    "    order by 1 \"\"\"\n",
    "    cursor.execute(postgres_select_query)\n",
    "    courses_df=cursor.fetchall()\n",
    "    connection.commit()\n",
    "   \n",
    "except (Exception, psycopg2.Error) as error:\n",
    "    if connection:\n",
    "        print(\"Error\", error)\n",
    "finally:\n",
    "    if connection:\n",
    "        cursor.close()\n",
    "        connection.close()"
   ]
  },
  {
   "cell_type": "code",
   "execution_count": 451,
   "metadata": {},
   "outputs": [],
   "source": [
    "courses_df = pd.DataFrame(courses_df) # преобразуем в DataFrame\n",
    "courses_df=courses_df.rename(columns={0:'user_id',1:'resource_id'}) #переименовываем столбцы \n"
   ]
  },
  {
   "cell_type": "code",
   "execution_count": 452,
   "metadata": {},
   "outputs": [
    {
     "name": "stdout",
     "output_type": "stream",
     "text": [
      "<class 'pandas.core.frame.DataFrame'>\n",
      "RangeIndex: 34074 entries, 0 to 34073\n",
      "Data columns (total 2 columns):\n",
      " #   Column       Non-Null Count  Dtype\n",
      "---  ------       --------------  -----\n",
      " 0   user_id      34074 non-null  int64\n",
      " 1   resource_id  34074 non-null  int64\n",
      "dtypes: int64(2)\n",
      "memory usage: 532.5 KB\n"
     ]
    }
   ],
   "source": [
    "courses_df.info() #проанализируем данные в полученной DF, тип данных, кол-во пропусков"
   ]
  },
  {
   "cell_type": "code",
   "execution_count": 453,
   "metadata": {},
   "outputs": [
    {
     "name": "stdout",
     "output_type": "stream",
     "text": [
      "12656\n",
      "126\n"
     ]
    }
   ],
   "source": [
    "print(courses_df['user_id'].nunique()) #проверим кол-во уникальных пользователей\n",
    "print(courses_df['resource_id'].nunique()) #проверим кол-во уникальных курсов"
   ]
  },
  {
   "cell_type": "code",
   "execution_count": 454,
   "metadata": {},
   "outputs": [
    {
     "data": {
      "text/html": [
       "<div>\n",
       "<style scoped>\n",
       "    .dataframe tbody tr th:only-of-type {\n",
       "        vertical-align: middle;\n",
       "    }\n",
       "\n",
       "    .dataframe tbody tr th {\n",
       "        vertical-align: top;\n",
       "    }\n",
       "\n",
       "    .dataframe thead th {\n",
       "        text-align: right;\n",
       "    }\n",
       "</style>\n",
       "<table border=\"1\" class=\"dataframe\">\n",
       "  <thead>\n",
       "    <tr style=\"text-align: right;\">\n",
       "      <th></th>\n",
       "      <th>user_id</th>\n",
       "      <th>resource_id</th>\n",
       "    </tr>\n",
       "  </thead>\n",
       "  <tbody>\n",
       "    <tr>\n",
       "      <th>0</th>\n",
       "      <td>51</td>\n",
       "      <td>516</td>\n",
       "    </tr>\n",
       "    <tr>\n",
       "      <th>1</th>\n",
       "      <td>51</td>\n",
       "      <td>1099</td>\n",
       "    </tr>\n",
       "    <tr>\n",
       "      <th>2</th>\n",
       "      <td>6117</td>\n",
       "      <td>356</td>\n",
       "    </tr>\n",
       "    <tr>\n",
       "      <th>3</th>\n",
       "      <td>6117</td>\n",
       "      <td>357</td>\n",
       "    </tr>\n",
       "    <tr>\n",
       "      <th>4</th>\n",
       "      <td>6117</td>\n",
       "      <td>1125</td>\n",
       "    </tr>\n",
       "  </tbody>\n",
       "</table>\n",
       "</div>"
      ],
      "text/plain": [
       "   user_id  resource_id\n",
       "0       51          516\n",
       "1       51         1099\n",
       "2     6117          356\n",
       "3     6117          357\n",
       "4     6117         1125"
      ]
     },
     "execution_count": 454,
     "metadata": {},
     "output_type": "execute_result"
    }
   ],
   "source": [
    "courses_df.head() # шапка DF"
   ]
  },
  {
   "cell_type": "code",
   "execution_count": 455,
   "metadata": {},
   "outputs": [
    {
     "data": {
      "text/html": [
       "<div>\n",
       "<style scoped>\n",
       "    .dataframe tbody tr th:only-of-type {\n",
       "        vertical-align: middle;\n",
       "    }\n",
       "\n",
       "    .dataframe tbody tr th {\n",
       "        vertical-align: top;\n",
       "    }\n",
       "\n",
       "    .dataframe thead th {\n",
       "        text-align: right;\n",
       "    }\n",
       "</style>\n",
       "<table border=\"1\" class=\"dataframe\">\n",
       "  <thead>\n",
       "    <tr style=\"text-align: right;\">\n",
       "      <th></th>\n",
       "      <th>list_of_courses</th>\n",
       "    </tr>\n",
       "    <tr>\n",
       "      <th>user_id</th>\n",
       "      <th></th>\n",
       "    </tr>\n",
       "  </thead>\n",
       "  <tbody>\n",
       "    <tr>\n",
       "      <th>51</th>\n",
       "      <td>[516, 1099]</td>\n",
       "    </tr>\n",
       "    <tr>\n",
       "      <th>6117</th>\n",
       "      <td>[356, 357, 1125]</td>\n",
       "    </tr>\n",
       "    <tr>\n",
       "      <th>10275</th>\n",
       "      <td>[553, 1147]</td>\n",
       "    </tr>\n",
       "    <tr>\n",
       "      <th>10457</th>\n",
       "      <td>[361, 1138]</td>\n",
       "    </tr>\n",
       "    <tr>\n",
       "      <th>17166</th>\n",
       "      <td>[356, 357]</td>\n",
       "    </tr>\n",
       "  </tbody>\n",
       "</table>\n",
       "</div>"
      ],
      "text/plain": [
       "          list_of_courses\n",
       "user_id                  \n",
       "51            [516, 1099]\n",
       "6117     [356, 357, 1125]\n",
       "10275         [553, 1147]\n",
       "10457         [361, 1138]\n",
       "17166          [356, 357]"
      ]
     },
     "execution_count": 455,
     "metadata": {},
     "output_type": "execute_result"
    }
   ],
   "source": [
    "courses_pivot = courses_df.groupby(['user_id'])['resource_id'].apply(list) #сгруппируем данные по id пользователя\n",
    "courses_pivot = courses_pivot.to_frame(name='list_of_courses')             # новая DF, где каждому пользователю соответствует\n",
    "courses_pivot.head()                                                       # список купленных им курсов\n",
    "            "
   ]
  },
  {
   "cell_type": "code",
   "execution_count": 456,
   "metadata": {},
   "outputs": [],
   "source": [
    "def get_pairs(data): # функция для генерации всех комбинаций пар курсов\n",
    "    list_of_pairs=[]\n",
    "    for i in data['list_of_courses'].values:\n",
    "        list_of_pairs.append(list(itertools.combinations(i, 2)))\n",
    "    return list_of_pairs\n",
    "pairs = get_pairs(courses_pivot) # используем функцию\n"
   ]
  },
  {
   "cell_type": "code",
   "execution_count": 457,
   "metadata": {},
   "outputs": [],
   "source": [
    "pairs_new = [] #преобразуем двухуровневый список в одноуровневый  \n",
    "for pair in pairs:\n",
    "        pairs_new.extend(pair)\n"
   ]
  },
  {
   "cell_type": "code",
   "execution_count": 458,
   "metadata": {},
   "outputs": [
    {
     "name": "stdout",
     "output_type": "stream",
     "text": [
      "3989\n",
      "[((551, 566), 797)]\n"
     ]
    }
   ],
   "source": [
    "print(len(Counter(pairs_new).keys())) #посчитаем кол-во уникальных пар (курсов купленных вместе)\n",
    "print(Counter(pairs_new).most_common(1)) #отобразим самую популярную пару курсов\n"
   ]
  },
  {
   "cell_type": "code",
   "execution_count": 459,
   "metadata": {},
   "outputs": [],
   "source": [
    "recommend_dict = defaultdict(list) # создаем Defaultdict для накопления и подсчета всех сочетаний в парах для каждого курса \n",
    "for course,rec in pairs_new:\n",
    "    recommend_dict[course].append(rec)\n",
    "recommend_dict = dict(recommend_dict) #преобразуем в словарь"
   ]
  },
  {
   "cell_type": "code",
   "execution_count": 460,
   "metadata": {},
   "outputs": [
    {
     "data": {
      "text/plain": [
       "117"
      ]
     },
     "execution_count": 460,
     "metadata": {},
     "output_type": "execute_result"
    }
   ],
   "source": [
    "len(recommend_dict.keys()) #проверяем для какого кол-ва курсов есть данные"
   ]
  },
  {
   "cell_type": "code",
   "execution_count": 461,
   "metadata": {},
   "outputs": [],
   "source": [
    "# так как изначально кол-во курсов было 126, найдем \"потерянные\" при подсчете курсы, т.е. курсы, для которых не было рекомендаций"
   ]
  },
  {
   "cell_type": "code",
   "execution_count": 462,
   "metadata": {},
   "outputs": [
    {
     "data": {
      "text/plain": [
       "{1184, 833, 1188, 902, 1160, 1198, 1199, 1200, 1201}"
      ]
     },
     "execution_count": 462,
     "metadata": {},
     "output_type": "execute_result"
    }
   ],
   "source": [
    "list_of_missing_courses = set(courses_df['resource_id'].unique() )-set(recommend_dict.keys())\n",
    "list_of_missing_courses  # зафиксируем \"потерянные\" курсы, чтобы в дальнейшенм вставить их в таблицу"
   ]
  },
  {
   "cell_type": "code",
   "execution_count": 463,
   "metadata": {},
   "outputs": [],
   "source": [
    "rec_dict={} #создаем словарь, заполняем данными: ключ - номер курса, значение - список кортежей (номер парного курса, популярность)\n",
    "for key,value in recommend_dict.items():\n",
    "    rec_dict[key]=Counter(value).most_common(2) #в словарь попадают только 2 самые популярные пары курсов"
   ]
  },
  {
   "cell_type": "code",
   "execution_count": 464,
   "metadata": {},
   "outputs": [],
   "source": [
    "for item in list_of_missing_courses: #добавляем \"потерянные\" курсы в качестве ключа с пустыми данными в качестве значений\n",
    "    rec_dict[item]=[(0,0),(0,0)]\n",
    "    "
   ]
  },
  {
   "cell_type": "code",
   "execution_count": 465,
   "metadata": {},
   "outputs": [],
   "source": [
    "for key,value in rec_dict.items(): #заполняем \"пустыми\" кортежами (0,0) пропуски в данных \n",
    "    if len(value)<2:               #курсы, для которых существует менее 2-ух рекомендаций\n",
    "        value.append((0,0))"
   ]
  },
  {
   "cell_type": "code",
   "execution_count": 466,
   "metadata": {},
   "outputs": [],
   "source": [
    "recommend_df = pd.DataFrame.from_dict(rec_dict,orient='index',columns=['recomm_1','recomm_2']).reset_index() #преобразуем словарь в DataFrame"
   ]
  },
  {
   "cell_type": "code",
   "execution_count": 467,
   "metadata": {},
   "outputs": [],
   "source": [
    "recommend_df['rec_1']= recommend_df.recomm_1.apply(lambda x:x[0]) #разделяем данные из кортежей в отдельные столбцы для каждого курса\n",
    "recommend_df['popul_1']= recommend_df.recomm_1.apply(lambda x:x[1])\n",
    "recommend_df['rec_2']= recommend_df.recomm_2.apply(lambda x:x[0])\n",
    "recommend_df['popul_2']= recommend_df.recomm_2.apply(lambda x:x[1])\n",
    "recommend_df=recommend_df.drop(['recomm_1','recomm_2'],axis=1)    #удаляем лишние столбцы\n",
    "recommend_df=recommend_df.rename(columns={'index':'resource_id'}) #переименовываем столбец\n"
   ]
  },
  {
   "cell_type": "code",
   "execution_count": 468,
   "metadata": {},
   "outputs": [
    {
     "data": {
      "text/html": [
       "<div>\n",
       "<style scoped>\n",
       "    .dataframe tbody tr th:only-of-type {\n",
       "        vertical-align: middle;\n",
       "    }\n",
       "\n",
       "    .dataframe tbody tr th {\n",
       "        vertical-align: top;\n",
       "    }\n",
       "\n",
       "    .dataframe thead th {\n",
       "        text-align: right;\n",
       "    }\n",
       "</style>\n",
       "<table border=\"1\" class=\"dataframe\">\n",
       "  <thead>\n",
       "    <tr style=\"text-align: right;\">\n",
       "      <th></th>\n",
       "      <th>resource_id</th>\n",
       "      <th>rec_1</th>\n",
       "      <th>popul_1</th>\n",
       "      <th>rec_2</th>\n",
       "      <th>popul_2</th>\n",
       "    </tr>\n",
       "  </thead>\n",
       "  <tbody>\n",
       "    <tr>\n",
       "      <th>0</th>\n",
       "      <td>516</td>\n",
       "      <td>745</td>\n",
       "      <td>199</td>\n",
       "      <td>553</td>\n",
       "      <td>107</td>\n",
       "    </tr>\n",
       "    <tr>\n",
       "      <th>1</th>\n",
       "      <td>356</td>\n",
       "      <td>571</td>\n",
       "      <td>103</td>\n",
       "      <td>357</td>\n",
       "      <td>100</td>\n",
       "    </tr>\n",
       "    <tr>\n",
       "      <th>2</th>\n",
       "      <td>357</td>\n",
       "      <td>571</td>\n",
       "      <td>112</td>\n",
       "      <td>1125</td>\n",
       "      <td>52</td>\n",
       "    </tr>\n",
       "    <tr>\n",
       "      <th>3</th>\n",
       "      <td>553</td>\n",
       "      <td>745</td>\n",
       "      <td>212</td>\n",
       "      <td>568</td>\n",
       "      <td>83</td>\n",
       "    </tr>\n",
       "    <tr>\n",
       "      <th>4</th>\n",
       "      <td>361</td>\n",
       "      <td>551</td>\n",
       "      <td>49</td>\n",
       "      <td>1138</td>\n",
       "      <td>40</td>\n",
       "    </tr>\n",
       "    <tr>\n",
       "      <th>...</th>\n",
       "      <td>...</td>\n",
       "      <td>...</td>\n",
       "      <td>...</td>\n",
       "      <td>...</td>\n",
       "      <td>...</td>\n",
       "    </tr>\n",
       "    <tr>\n",
       "      <th>121</th>\n",
       "      <td>1160</td>\n",
       "      <td>0</td>\n",
       "      <td>0</td>\n",
       "      <td>0</td>\n",
       "      <td>0</td>\n",
       "    </tr>\n",
       "    <tr>\n",
       "      <th>122</th>\n",
       "      <td>1198</td>\n",
       "      <td>0</td>\n",
       "      <td>0</td>\n",
       "      <td>0</td>\n",
       "      <td>0</td>\n",
       "    </tr>\n",
       "    <tr>\n",
       "      <th>123</th>\n",
       "      <td>1199</td>\n",
       "      <td>0</td>\n",
       "      <td>0</td>\n",
       "      <td>0</td>\n",
       "      <td>0</td>\n",
       "    </tr>\n",
       "    <tr>\n",
       "      <th>124</th>\n",
       "      <td>1200</td>\n",
       "      <td>0</td>\n",
       "      <td>0</td>\n",
       "      <td>0</td>\n",
       "      <td>0</td>\n",
       "    </tr>\n",
       "    <tr>\n",
       "      <th>125</th>\n",
       "      <td>1201</td>\n",
       "      <td>0</td>\n",
       "      <td>0</td>\n",
       "      <td>0</td>\n",
       "      <td>0</td>\n",
       "    </tr>\n",
       "  </tbody>\n",
       "</table>\n",
       "<p>126 rows × 5 columns</p>\n",
       "</div>"
      ],
      "text/plain": [
       "     resource_id  rec_1  popul_1  rec_2  popul_2\n",
       "0            516    745      199    553      107\n",
       "1            356    571      103    357      100\n",
       "2            357    571      112   1125       52\n",
       "3            553    745      212    568       83\n",
       "4            361    551       49   1138       40\n",
       "..           ...    ...      ...    ...      ...\n",
       "121         1160      0        0      0        0\n",
       "122         1198      0        0      0        0\n",
       "123         1199      0        0      0        0\n",
       "124         1200      0        0      0        0\n",
       "125         1201      0        0      0        0\n",
       "\n",
       "[126 rows x 5 columns]"
      ]
     },
     "execution_count": 468,
     "metadata": {},
     "output_type": "execute_result"
    }
   ],
   "source": [
    "recommend_df # таблица рекомендаций требует дополнений. Многие курсы не имеют рекомендаций (одной или двух), для некоторых\n",
    "# курсов кол-во рекомендаций слишком мало\n"
   ]
  },
  {
   "cell_type": "code",
   "execution_count": 469,
   "metadata": {},
   "outputs": [],
   "source": [
    "frequency_bottom_line_1=np.quantile(recommend_df['popul_1'],0.25) #определим значение квартиля Q1 для столбцов \"популярности\"\n",
    "frequency_bottom_line_2=np.quantile(recommend_df['popul_2'],0.25) # примем эти значения как нижние границы частотности"
   ]
  },
  {
   "cell_type": "code",
   "execution_count": 470,
   "metadata": {},
   "outputs": [
    {
     "data": {
      "text/plain": [
       "rec_1\n",
       "551    1810\n",
       "566    1133\n",
       "745     614\n",
       "572     429\n",
       "794     414\n",
       "Name: popul_1, dtype: int64"
      ]
     },
     "execution_count": 470,
     "metadata": {},
     "output_type": "execute_result"
    }
   ],
   "source": [
    "most_popular_1 = recommend_df.groupby(['rec_1'])['popul_1'].sum().sort_values(ascending=False) #определим самые популярные курсы\n",
    "most_popular_2 = recommend_df.groupby(['rec_2'])['popul_2'].sum().sort_values(ascending=False) # в каждом столбце \"популярности\"\n",
    "most_popular_1.head(5)                                                                         \n"
   ]
  },
  {
   "cell_type": "code",
   "execution_count": 471,
   "metadata": {},
   "outputs": [
    {
     "data": {
      "text/plain": [
       "rec_2\n",
       "515    508\n",
       "552    321\n",
       "523    313\n",
       "551    267\n",
       "752    212\n",
       "Name: popul_2, dtype: int64"
      ]
     },
     "execution_count": 471,
     "metadata": {},
     "output_type": "execute_result"
    }
   ],
   "source": [
    "most_popular_2.head(5)"
   ]
  },
  {
   "cell_type": "code",
   "execution_count": 472,
   "metadata": {},
   "outputs": [],
   "source": [
    "# Самыми покупаемыми курсами являются: 551 и 566 (популярность превышает ближайшие данные в 3 и 2 раза соответственно).\n",
    "# Данные курсы мы будем рекомендовать для всех данных,где частотность слишком мала и в пропусках "
   ]
  },
  {
   "cell_type": "code",
   "execution_count": 473,
   "metadata": {},
   "outputs": [],
   "source": [
    "def insert_recom_1 (row):   #функции для замены значений ниже границы частотности и пропусков\n",
    "    if row['popul_1']<=frequency_bottom_line_1:\n",
    "        return 551\n",
    "    else:\n",
    "        return row['rec_1']\n",
    "    \n",
    "def insert_recom_2 (row):\n",
    "    if row['popul_2']<=frequency_bottom_line_2:\n",
    "        return 566\n",
    "    else:\n",
    "        return row['rec_2']\n",
    "    "
   ]
  },
  {
   "cell_type": "code",
   "execution_count": 474,
   "metadata": {},
   "outputs": [],
   "source": [
    "recommend_df['recommendation_1'] = recommend_df.apply(insert_recom_1,axis=1) # применим функции для замены значений\n",
    "recommend_df['recommendation_2'] = recommend_df.apply(insert_recom_2,axis=1)\n",
    "recommend_df = recommend_df.drop(['rec_1','rec_2','popul_1','popul_2'],axis=1) # удалим лишние столбцы"
   ]
  },
  {
   "cell_type": "code",
   "execution_count": 475,
   "metadata": {},
   "outputs": [
    {
     "data": {
      "text/html": [
       "<div>\n",
       "<style scoped>\n",
       "    .dataframe tbody tr th:only-of-type {\n",
       "        vertical-align: middle;\n",
       "    }\n",
       "\n",
       "    .dataframe tbody tr th {\n",
       "        vertical-align: top;\n",
       "    }\n",
       "\n",
       "    .dataframe thead th {\n",
       "        text-align: right;\n",
       "    }\n",
       "</style>\n",
       "<table border=\"1\" class=\"dataframe\">\n",
       "  <thead>\n",
       "    <tr style=\"text-align: right;\">\n",
       "      <th></th>\n",
       "      <th>resource_id</th>\n",
       "      <th>recommendation_1</th>\n",
       "      <th>recommendation_2</th>\n",
       "    </tr>\n",
       "  </thead>\n",
       "  <tbody>\n",
       "    <tr>\n",
       "      <th>0</th>\n",
       "      <td>516</td>\n",
       "      <td>745</td>\n",
       "      <td>553</td>\n",
       "    </tr>\n",
       "    <tr>\n",
       "      <th>1</th>\n",
       "      <td>356</td>\n",
       "      <td>571</td>\n",
       "      <td>357</td>\n",
       "    </tr>\n",
       "    <tr>\n",
       "      <th>2</th>\n",
       "      <td>357</td>\n",
       "      <td>571</td>\n",
       "      <td>1125</td>\n",
       "    </tr>\n",
       "    <tr>\n",
       "      <th>3</th>\n",
       "      <td>553</td>\n",
       "      <td>745</td>\n",
       "      <td>568</td>\n",
       "    </tr>\n",
       "    <tr>\n",
       "      <th>4</th>\n",
       "      <td>361</td>\n",
       "      <td>551</td>\n",
       "      <td>1138</td>\n",
       "    </tr>\n",
       "    <tr>\n",
       "      <th>...</th>\n",
       "      <td>...</td>\n",
       "      <td>...</td>\n",
       "      <td>...</td>\n",
       "    </tr>\n",
       "    <tr>\n",
       "      <th>121</th>\n",
       "      <td>1160</td>\n",
       "      <td>551</td>\n",
       "      <td>566</td>\n",
       "    </tr>\n",
       "    <tr>\n",
       "      <th>122</th>\n",
       "      <td>1198</td>\n",
       "      <td>551</td>\n",
       "      <td>566</td>\n",
       "    </tr>\n",
       "    <tr>\n",
       "      <th>123</th>\n",
       "      <td>1199</td>\n",
       "      <td>551</td>\n",
       "      <td>566</td>\n",
       "    </tr>\n",
       "    <tr>\n",
       "      <th>124</th>\n",
       "      <td>1200</td>\n",
       "      <td>551</td>\n",
       "      <td>566</td>\n",
       "    </tr>\n",
       "    <tr>\n",
       "      <th>125</th>\n",
       "      <td>1201</td>\n",
       "      <td>551</td>\n",
       "      <td>566</td>\n",
       "    </tr>\n",
       "  </tbody>\n",
       "</table>\n",
       "<p>126 rows × 3 columns</p>\n",
       "</div>"
      ],
      "text/plain": [
       "     resource_id  recommendation_1  recommendation_2\n",
       "0            516               745               553\n",
       "1            356               571               357\n",
       "2            357               571              1125\n",
       "3            553               745               568\n",
       "4            361               551              1138\n",
       "..           ...               ...               ...\n",
       "121         1160               551               566\n",
       "122         1198               551               566\n",
       "123         1199               551               566\n",
       "124         1200               551               566\n",
       "125         1201               551               566\n",
       "\n",
       "[126 rows x 3 columns]"
      ]
     },
     "execution_count": 475,
     "metadata": {},
     "output_type": "execute_result"
    }
   ],
   "source": [
    "recommend_df # финальная таблица с рекомендациями"
   ]
  },
  {
   "attachments": {},
   "cell_type": "markdown",
   "metadata": {},
   "source": [
    "### Комментарий\n",
    "В результате работы составлена таблица, где для каждого курса подобраны две рекомендации. Рекомендации найдены на основе анализа данных о продажах за 2017-2018 гг, из которых были выделены самые популярные сочетания курсов (курсы купленные одним пользователем).\n"
   ]
  },
  {
   "attachments": {},
   "cell_type": "markdown",
   "metadata": {},
   "source": [
    "В таблицу попали курсы с недостаточными данными (менее двух рекомендаций) или с очень низкими показателями популярности. Для этих случаев была определена нижняя граница частотности - первый квартиль столбцов популярности. Также найдены самые покупаемые в парах курсы - 551 и 566. Данные курсы добалены в качестве рекомендаций для всех курсов находящихся ниже границы частотности."
   ]
  },
  {
   "attachments": {},
   "cell_type": "markdown",
   "metadata": {},
   "source": [
    "### Вывод\n",
    "\n",
    "Полученная таблица готова для внедрения на сайт онлайн-школы. Для определения эффективности необходимо запустить А/В тесты."
   ]
  }
 ],
 "metadata": {
  "kernelspec": {
   "display_name": "Python 3",
   "language": "python",
   "name": "python3"
  },
  "language_info": {
   "codemirror_mode": {
    "name": "ipython",
    "version": 3
   },
   "file_extension": ".py",
   "mimetype": "text/x-python",
   "name": "python",
   "nbconvert_exporter": "python",
   "pygments_lexer": "ipython3",
   "version": "3.9.10"
  },
  "orig_nbformat": 4,
  "vscode": {
   "interpreter": {
    "hash": "4cff3abf1678755e0069fd79299a535fe1940bcd71a6b01d9f4386710b2b163f"
   }
  }
 },
 "nbformat": 4,
 "nbformat_minor": 2
}
